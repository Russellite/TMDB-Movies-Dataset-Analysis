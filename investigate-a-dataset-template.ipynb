{
 "cells": [
  {
   "cell_type": "markdown",
   "metadata": {},
   "source": [
    "# Project: Investigate a Dataset (TMDB_Movies_Dataset_Analysis!)\n",
    "\n",
    "## Table of Contents\n",
    "<ul>\n",
    "<li><a href=\"#intro\">Introduction</a></li>\n",
    "<li><a href=\"#questions\">Questions</a></li>\n",
    "<li><a href=\"#wrangling\">Data Wrangling</a></li>\n",
    "<li><a href=\"#eda\">Exploratory Data Analysis</a></li>\n",
    "<li><a href=\"#conclusions\">Conclusions</a></li>\n",
    "</ul>"
   ]
  },
  {
   "cell_type": "markdown",
   "metadata": {},
   "source": [
    "<a id='intro'></a>\n",
    "## Introduction\n",
    "\n",
    "This is dataset collected from the movie database TMDB, that has information about 10000 movies.\n",
    "<li>Certain columns, like 'cast' and 'genres', contain multiple values separated by pipe (|) characters</li>\n",
    "<li>There are some odd characters in the 'cast' column. Which will be left as is.</li>\n",
    "<li>The final two columns ending with '_adj' show the budget and\n",
    "revenue of the associated movie in terms of 2010 dollars, accounting for inflation over time. </li>"
   ]
  },
  {
   "cell_type": "markdown",
   "metadata": {},
   "source": [
    "<a id='questions'></a>\n",
    "## Questions"
   ]
  },
  {
   "cell_type": "markdown",
   "metadata": {},
   "source": [
    "1. Which genres are most popular from year to year?"
   ]
  },
  {
   "cell_type": "markdown",
   "metadata": {},
   "source": [
    "2. What kinds of properties are associated with movies that have high revenues?\n"
   ]
  },
  {
   "cell_type": "markdown",
   "metadata": {},
   "source": [
    "### Importing the necessary libraries to be used for the analysis"
   ]
  },
  {
   "cell_type": "code",
   "execution_count": 82,
   "metadata": {},
   "outputs": [],
   "source": [
    "# importing the necessary libraries\n",
    "import numpy as np\n",
    "import pandas as pd\n",
    "import matplotlib.pyplot as plt\n",
    "import seaborn as sns\n",
    "\n",
    "# Magic words usage to show plots within the document\n",
    "%matplotlib inline\n"
   ]
  },
  {
   "cell_type": "markdown",
   "metadata": {},
   "source": [
    "<a id='wrangling'></a>\n",
    "## Data Wrangling\n",
    "\n",
    "In this section of the report, the data will be loaded, checked for cleanliness, and then trimmed and cleaned for analysis.\n",
    "\n",
    "### General Properties"
   ]
  },
  {
   "cell_type": "markdown",
   "metadata": {},
   "source": [
    "We will load the dataset and check a few rows"
   ]
  },
  {
   "cell_type": "code",
   "execution_count": 83,
   "metadata": {},
   "outputs": [
    {
     "data": {
      "text/html": [
       "<div>\n",
       "<style scoped>\n",
       "    .dataframe tbody tr th:only-of-type {\n",
       "        vertical-align: middle;\n",
       "    }\n",
       "\n",
       "    .dataframe tbody tr th {\n",
       "        vertical-align: top;\n",
       "    }\n",
       "\n",
       "    .dataframe thead th {\n",
       "        text-align: right;\n",
       "    }\n",
       "</style>\n",
       "<table border=\"1\" class=\"dataframe\">\n",
       "  <thead>\n",
       "    <tr style=\"text-align: right;\">\n",
       "      <th></th>\n",
       "      <th>id</th>\n",
       "      <th>imdb_id</th>\n",
       "      <th>popularity</th>\n",
       "      <th>budget</th>\n",
       "      <th>revenue</th>\n",
       "      <th>original_title</th>\n",
       "      <th>cast</th>\n",
       "      <th>homepage</th>\n",
       "      <th>director</th>\n",
       "      <th>tagline</th>\n",
       "      <th>...</th>\n",
       "      <th>overview</th>\n",
       "      <th>runtime</th>\n",
       "      <th>genres</th>\n",
       "      <th>production_companies</th>\n",
       "      <th>release_date</th>\n",
       "      <th>vote_count</th>\n",
       "      <th>vote_average</th>\n",
       "      <th>release_year</th>\n",
       "      <th>budget_adj</th>\n",
       "      <th>revenue_adj</th>\n",
       "    </tr>\n",
       "  </thead>\n",
       "  <tbody>\n",
       "    <tr>\n",
       "      <th>0</th>\n",
       "      <td>135397</td>\n",
       "      <td>tt0369610</td>\n",
       "      <td>32.985763</td>\n",
       "      <td>150000000</td>\n",
       "      <td>1513528810</td>\n",
       "      <td>Jurassic World</td>\n",
       "      <td>Chris Pratt|Bryce Dallas Howard|Irrfan Khan|Vi...</td>\n",
       "      <td>http://www.jurassicworld.com/</td>\n",
       "      <td>Colin Trevorrow</td>\n",
       "      <td>The park is open.</td>\n",
       "      <td>...</td>\n",
       "      <td>Twenty-two years after the events of Jurassic ...</td>\n",
       "      <td>124</td>\n",
       "      <td>Action|Adventure|Science Fiction|Thriller</td>\n",
       "      <td>Universal Studios|Amblin Entertainment|Legenda...</td>\n",
       "      <td>6/9/15</td>\n",
       "      <td>5562</td>\n",
       "      <td>6.5</td>\n",
       "      <td>2015</td>\n",
       "      <td>1.379999e+08</td>\n",
       "      <td>1.392446e+09</td>\n",
       "    </tr>\n",
       "    <tr>\n",
       "      <th>1</th>\n",
       "      <td>76341</td>\n",
       "      <td>tt1392190</td>\n",
       "      <td>28.419936</td>\n",
       "      <td>150000000</td>\n",
       "      <td>378436354</td>\n",
       "      <td>Mad Max: Fury Road</td>\n",
       "      <td>Tom Hardy|Charlize Theron|Hugh Keays-Byrne|Nic...</td>\n",
       "      <td>http://www.madmaxmovie.com/</td>\n",
       "      <td>George Miller</td>\n",
       "      <td>What a Lovely Day.</td>\n",
       "      <td>...</td>\n",
       "      <td>An apocalyptic story set in the furthest reach...</td>\n",
       "      <td>120</td>\n",
       "      <td>Action|Adventure|Science Fiction|Thriller</td>\n",
       "      <td>Village Roadshow Pictures|Kennedy Miller Produ...</td>\n",
       "      <td>5/13/15</td>\n",
       "      <td>6185</td>\n",
       "      <td>7.1</td>\n",
       "      <td>2015</td>\n",
       "      <td>1.379999e+08</td>\n",
       "      <td>3.481613e+08</td>\n",
       "    </tr>\n",
       "    <tr>\n",
       "      <th>2</th>\n",
       "      <td>262500</td>\n",
       "      <td>tt2908446</td>\n",
       "      <td>13.112507</td>\n",
       "      <td>110000000</td>\n",
       "      <td>295238201</td>\n",
       "      <td>Insurgent</td>\n",
       "      <td>Shailene Woodley|Theo James|Kate Winslet|Ansel...</td>\n",
       "      <td>http://www.thedivergentseries.movie/#insurgent</td>\n",
       "      <td>Robert Schwentke</td>\n",
       "      <td>One Choice Can Destroy You</td>\n",
       "      <td>...</td>\n",
       "      <td>Beatrice Prior must confront her inner demons ...</td>\n",
       "      <td>119</td>\n",
       "      <td>Adventure|Science Fiction|Thriller</td>\n",
       "      <td>Summit Entertainment|Mandeville Films|Red Wago...</td>\n",
       "      <td>3/18/15</td>\n",
       "      <td>2480</td>\n",
       "      <td>6.3</td>\n",
       "      <td>2015</td>\n",
       "      <td>1.012000e+08</td>\n",
       "      <td>2.716190e+08</td>\n",
       "    </tr>\n",
       "  </tbody>\n",
       "</table>\n",
       "<p>3 rows × 21 columns</p>\n",
       "</div>"
      ],
      "text/plain": [
       "       id    imdb_id  popularity     budget     revenue      original_title  \\\n",
       "0  135397  tt0369610   32.985763  150000000  1513528810      Jurassic World   \n",
       "1   76341  tt1392190   28.419936  150000000   378436354  Mad Max: Fury Road   \n",
       "2  262500  tt2908446   13.112507  110000000   295238201           Insurgent   \n",
       "\n",
       "                                                cast  \\\n",
       "0  Chris Pratt|Bryce Dallas Howard|Irrfan Khan|Vi...   \n",
       "1  Tom Hardy|Charlize Theron|Hugh Keays-Byrne|Nic...   \n",
       "2  Shailene Woodley|Theo James|Kate Winslet|Ansel...   \n",
       "\n",
       "                                         homepage          director  \\\n",
       "0                   http://www.jurassicworld.com/   Colin Trevorrow   \n",
       "1                     http://www.madmaxmovie.com/     George Miller   \n",
       "2  http://www.thedivergentseries.movie/#insurgent  Robert Schwentke   \n",
       "\n",
       "                      tagline  ...  \\\n",
       "0           The park is open.  ...   \n",
       "1          What a Lovely Day.  ...   \n",
       "2  One Choice Can Destroy You  ...   \n",
       "\n",
       "                                            overview runtime  \\\n",
       "0  Twenty-two years after the events of Jurassic ...     124   \n",
       "1  An apocalyptic story set in the furthest reach...     120   \n",
       "2  Beatrice Prior must confront her inner demons ...     119   \n",
       "\n",
       "                                      genres  \\\n",
       "0  Action|Adventure|Science Fiction|Thriller   \n",
       "1  Action|Adventure|Science Fiction|Thriller   \n",
       "2         Adventure|Science Fiction|Thriller   \n",
       "\n",
       "                                production_companies release_date vote_count  \\\n",
       "0  Universal Studios|Amblin Entertainment|Legenda...       6/9/15       5562   \n",
       "1  Village Roadshow Pictures|Kennedy Miller Produ...      5/13/15       6185   \n",
       "2  Summit Entertainment|Mandeville Films|Red Wago...      3/18/15       2480   \n",
       "\n",
       "   vote_average  release_year    budget_adj   revenue_adj  \n",
       "0           6.5          2015  1.379999e+08  1.392446e+09  \n",
       "1           7.1          2015  1.379999e+08  3.481613e+08  \n",
       "2           6.3          2015  1.012000e+08  2.716190e+08  \n",
       "\n",
       "[3 rows x 21 columns]"
      ]
     },
     "execution_count": 83,
     "metadata": {},
     "output_type": "execute_result"
    }
   ],
   "source": [
    "# Load the data and check the first few lines\n",
    "tmdb = pd.read_csv(\"tmdb-movies.csv\")\n",
    "tmdb.head(3)"
   ]
  },
  {
   "cell_type": "markdown",
   "metadata": {},
   "source": [
    "We check for the structure of the data with pandas `shape` method"
   ]
  },
  {
   "cell_type": "code",
   "execution_count": 84,
   "metadata": {},
   "outputs": [
    {
     "data": {
      "text/plain": [
       "(10866, 21)"
      ]
     },
     "execution_count": 84,
     "metadata": {},
     "output_type": "execute_result"
    }
   ],
   "source": [
    "tmdb.shape"
   ]
  },
  {
   "cell_type": "markdown",
   "metadata": {},
   "source": [
    "The data has 10866 rows and 21 columns"
   ]
  },
  {
   "cell_type": "markdown",
   "metadata": {},
   "source": [
    "We check for duplicates in the dataset "
   ]
  },
  {
   "cell_type": "code",
   "execution_count": 85,
   "metadata": {
    "scrolled": true
   },
   "outputs": [
    {
     "data": {
      "text/plain": [
       "1"
      ]
     },
     "execution_count": 85,
     "metadata": {},
     "output_type": "execute_result"
    }
   ],
   "source": [
    "tmdb.duplicated().any().sum()"
   ]
  },
  {
   "cell_type": "markdown",
   "metadata": {},
   "source": [
    "There is one duplicate row in the dataset which needs to be resolved\n"
   ]
  },
  {
   "cell_type": "markdown",
   "metadata": {},
   "source": [
    "We want to check for columns that have null values"
   ]
  },
  {
   "cell_type": "code",
   "execution_count": 86,
   "metadata": {},
   "outputs": [
    {
     "data": {
      "text/plain": [
       "id                         0\n",
       "imdb_id                   10\n",
       "popularity                 0\n",
       "budget                     0\n",
       "revenue                    0\n",
       "original_title             0\n",
       "cast                      76\n",
       "homepage                7930\n",
       "director                  44\n",
       "tagline                 2824\n",
       "keywords                1493\n",
       "overview                   4\n",
       "runtime                    0\n",
       "genres                    23\n",
       "production_companies    1030\n",
       "release_date               0\n",
       "vote_count                 0\n",
       "vote_average               0\n",
       "release_year               0\n",
       "budget_adj                 0\n",
       "revenue_adj                0\n",
       "dtype: int64"
      ]
     },
     "execution_count": 86,
     "metadata": {},
     "output_type": "execute_result"
    }
   ],
   "source": [
    "tmdb.isnull().sum()"
   ]
  },
  {
   "cell_type": "markdown",
   "metadata": {},
   "source": [
    "We have duplicated values mostly in columns we don't need in our analysis, columns like `homepage`, `tagline`, `keywords`, `production_companies`."
   ]
  },
  {
   "cell_type": "markdown",
   "metadata": {},
   "source": [
    "We check the data type of the dataset using the `dtypes` attribute"
   ]
  },
  {
   "cell_type": "code",
   "execution_count": 87,
   "metadata": {},
   "outputs": [
    {
     "data": {
      "text/plain": [
       "id                        int64\n",
       "imdb_id                  object\n",
       "popularity              float64\n",
       "budget                    int64\n",
       "revenue                   int64\n",
       "original_title           object\n",
       "cast                     object\n",
       "homepage                 object\n",
       "director                 object\n",
       "tagline                  object\n",
       "keywords                 object\n",
       "overview                 object\n",
       "runtime                   int64\n",
       "genres                   object\n",
       "production_companies     object\n",
       "release_date             object\n",
       "vote_count                int64\n",
       "vote_average            float64\n",
       "release_year              int64\n",
       "budget_adj              float64\n",
       "revenue_adj             float64\n",
       "dtype: object"
      ]
     },
     "execution_count": 87,
     "metadata": {},
     "output_type": "execute_result"
    }
   ],
   "source": [
    "tmdb.dtypes"
   ]
  },
  {
   "cell_type": "markdown",
   "metadata": {},
   "source": [
    "The `release_year` column of the dataset has an object (string) data type which has to be cast to datatime for exploration"
   ]
  },
  {
   "cell_type": "markdown",
   "metadata": {},
   "source": [
    "We use pandas `info` method, to get more information about the data"
   ]
  },
  {
   "cell_type": "code",
   "execution_count": 88,
   "metadata": {
    "scrolled": false
   },
   "outputs": [
    {
     "name": "stdout",
     "output_type": "stream",
     "text": [
      "<class 'pandas.core.frame.DataFrame'>\n",
      "RangeIndex: 10866 entries, 0 to 10865\n",
      "Data columns (total 21 columns):\n",
      " #   Column                Non-Null Count  Dtype  \n",
      "---  ------                --------------  -----  \n",
      " 0   id                    10866 non-null  int64  \n",
      " 1   imdb_id               10856 non-null  object \n",
      " 2   popularity            10866 non-null  float64\n",
      " 3   budget                10866 non-null  int64  \n",
      " 4   revenue               10866 non-null  int64  \n",
      " 5   original_title        10866 non-null  object \n",
      " 6   cast                  10790 non-null  object \n",
      " 7   homepage              2936 non-null   object \n",
      " 8   director              10822 non-null  object \n",
      " 9   tagline               8042 non-null   object \n",
      " 10  keywords              9373 non-null   object \n",
      " 11  overview              10862 non-null  object \n",
      " 12  runtime               10866 non-null  int64  \n",
      " 13  genres                10843 non-null  object \n",
      " 14  production_companies  9836 non-null   object \n",
      " 15  release_date          10866 non-null  object \n",
      " 16  vote_count            10866 non-null  int64  \n",
      " 17  vote_average          10866 non-null  float64\n",
      " 18  release_year          10866 non-null  int64  \n",
      " 19  budget_adj            10866 non-null  float64\n",
      " 20  revenue_adj           10866 non-null  float64\n",
      "dtypes: float64(4), int64(6), object(11)\n",
      "memory usage: 1.7+ MB\n"
     ]
    }
   ],
   "source": [
    "# Getting information about the data\n",
    "tmdb.info()"
   ]
  },
  {
   "cell_type": "markdown",
   "metadata": {},
   "source": [
    "These are the detailed information about the dataset\n",
    ">  \n",
    ">  \n",
    "> - **Movies (Rows)**: 10806\n",
    ">  \n",
    "> - **Attributes (Columns)**: 21\n",
    ">  \n",
    "> - **Column Names**:       \n",
    ">   - id\n",
    ">   - imdb_id\n",
    ">   - popularity\n",
    ">   - budget:\n",
    ">   - revenue:\n",
    ">   - original_title\n",
    ">   - cast: Cast\n",
    ">   - homepage\n",
    ">   - director\n",
    ">   - keywords\n",
    ">   - overview:\n",
    ">   - runtime\n",
    ">   - genres:\n",
    ">   - production_companies\n",
    ">   - release_date\n",
    ">   - vote_count\n",
    ">   - vote_average\n",
    ">   - release_year\n",
    ">   - budget_adj\n",
    ">   - revenue_adj"
   ]
  },
  {
   "cell_type": "markdown",
   "metadata": {},
   "source": [
    "### Cleaning the dataset from errors identified above:"
   ]
  },
  {
   "cell_type": "markdown",
   "metadata": {
    "collapsed": true
   },
   "source": [
    "### Dropping columns\n"
   ]
  },
  {
   "cell_type": "markdown",
   "metadata": {},
   "source": [
    "We want to drop some of the columns that are not need for the analysis, some of them even have most of the null values\n",
    "\n",
    "We want to  drop the columns: `homepage`, `tagline`, `keywords`, `imdb_id`, `overview`, `budget_adj`, `revenue_adj`"
   ]
  },
  {
   "cell_type": "code",
   "execution_count": 89,
   "metadata": {},
   "outputs": [],
   "source": [
    "columns_drop = [\"id\", \"homepage\", \"tagline\", \"keywords\", \"keywords\", \"imdb_id\", \"overview\", \"budget_adj\", \"revenue_adj\"]"
   ]
  },
  {
   "cell_type": "code",
   "execution_count": 90,
   "metadata": {},
   "outputs": [
    {
     "data": {
      "text/plain": [
       "Index(['popularity', 'budget', 'revenue', 'original_title', 'cast', 'director',\n",
       "       'runtime', 'genres', 'production_companies', 'release_date',\n",
       "       'vote_count', 'vote_average', 'release_year'],\n",
       "      dtype='object')"
      ]
     },
     "execution_count": 90,
     "metadata": {},
     "output_type": "execute_result"
    }
   ],
   "source": [
    "tmdb.drop(columns_drop, axis=1, inplace=True)\n",
    "tmdb.columns"
   ]
  },
  {
   "cell_type": "markdown",
   "metadata": {},
   "source": [
    "### Dropping rows that have `null` values"
   ]
  },
  {
   "cell_type": "markdown",
   "metadata": {},
   "source": [
    "We now drop all null values"
   ]
  },
  {
   "cell_type": "code",
   "execution_count": 91,
   "metadata": {},
   "outputs": [
    {
     "data": {
      "text/plain": [
       "(9773, 13)"
      ]
     },
     "execution_count": 91,
     "metadata": {},
     "output_type": "execute_result"
    }
   ],
   "source": [
    "tmdb.dropna(axis=0, inplace=True)\n",
    "tmdb.shape"
   ]
  },
  {
   "cell_type": "markdown",
   "metadata": {},
   "source": [
    "We check again for null values"
   ]
  },
  {
   "cell_type": "code",
   "execution_count": 92,
   "metadata": {},
   "outputs": [
    {
     "data": {
      "text/plain": [
       "popularity              0\n",
       "budget                  0\n",
       "revenue                 0\n",
       "original_title          0\n",
       "cast                    0\n",
       "director                0\n",
       "runtime                 0\n",
       "genres                  0\n",
       "production_companies    0\n",
       "release_date            0\n",
       "vote_count              0\n",
       "vote_average            0\n",
       "release_year            0\n",
       "dtype: int64"
      ]
     },
     "execution_count": 92,
     "metadata": {},
     "output_type": "execute_result"
    }
   ],
   "source": [
    "tmdb.isnull().sum()"
   ]
  },
  {
   "cell_type": "markdown",
   "metadata": {},
   "source": [
    "This time there are no `null` values"
   ]
  },
  {
   "cell_type": "markdown",
   "metadata": {},
   "source": [
    "### Dropping duplicates"
   ]
  },
  {
   "cell_type": "markdown",
   "metadata": {},
   "source": [
    "We first of all check that row that has duplicate"
   ]
  },
  {
   "cell_type": "code",
   "execution_count": 93,
   "metadata": {},
   "outputs": [
    {
     "data": {
      "text/html": [
       "<div>\n",
       "<style scoped>\n",
       "    .dataframe tbody tr th:only-of-type {\n",
       "        vertical-align: middle;\n",
       "    }\n",
       "\n",
       "    .dataframe tbody tr th {\n",
       "        vertical-align: top;\n",
       "    }\n",
       "\n",
       "    .dataframe thead th {\n",
       "        text-align: right;\n",
       "    }\n",
       "</style>\n",
       "<table border=\"1\" class=\"dataframe\">\n",
       "  <thead>\n",
       "    <tr style=\"text-align: right;\">\n",
       "      <th></th>\n",
       "      <th>popularity</th>\n",
       "      <th>budget</th>\n",
       "      <th>revenue</th>\n",
       "      <th>original_title</th>\n",
       "      <th>cast</th>\n",
       "      <th>director</th>\n",
       "      <th>runtime</th>\n",
       "      <th>genres</th>\n",
       "      <th>production_companies</th>\n",
       "      <th>release_date</th>\n",
       "      <th>vote_count</th>\n",
       "      <th>vote_average</th>\n",
       "      <th>release_year</th>\n",
       "    </tr>\n",
       "  </thead>\n",
       "  <tbody>\n",
       "    <tr>\n",
       "      <th>2089</th>\n",
       "      <td>0.59643</td>\n",
       "      <td>30000000</td>\n",
       "      <td>967000</td>\n",
       "      <td>TEKKEN</td>\n",
       "      <td>Jon Foo|Kelly Overton|Cary-Hiroyuki Tagawa|Ian...</td>\n",
       "      <td>Dwight H. Little</td>\n",
       "      <td>92</td>\n",
       "      <td>Crime|Drama|Action|Thriller|Science Fiction</td>\n",
       "      <td>Namco|Light Song Films</td>\n",
       "      <td>3/20/10</td>\n",
       "      <td>110</td>\n",
       "      <td>5.0</td>\n",
       "      <td>2010</td>\n",
       "    </tr>\n",
       "    <tr>\n",
       "      <th>2090</th>\n",
       "      <td>0.59643</td>\n",
       "      <td>30000000</td>\n",
       "      <td>967000</td>\n",
       "      <td>TEKKEN</td>\n",
       "      <td>Jon Foo|Kelly Overton|Cary-Hiroyuki Tagawa|Ian...</td>\n",
       "      <td>Dwight H. Little</td>\n",
       "      <td>92</td>\n",
       "      <td>Crime|Drama|Action|Thriller|Science Fiction</td>\n",
       "      <td>Namco|Light Song Films</td>\n",
       "      <td>3/20/10</td>\n",
       "      <td>110</td>\n",
       "      <td>5.0</td>\n",
       "      <td>2010</td>\n",
       "    </tr>\n",
       "  </tbody>\n",
       "</table>\n",
       "</div>"
      ],
      "text/plain": [
       "      popularity    budget  revenue original_title  \\\n",
       "2089     0.59643  30000000   967000         TEKKEN   \n",
       "2090     0.59643  30000000   967000         TEKKEN   \n",
       "\n",
       "                                                   cast          director  \\\n",
       "2089  Jon Foo|Kelly Overton|Cary-Hiroyuki Tagawa|Ian...  Dwight H. Little   \n",
       "2090  Jon Foo|Kelly Overton|Cary-Hiroyuki Tagawa|Ian...  Dwight H. Little   \n",
       "\n",
       "      runtime                                       genres  \\\n",
       "2089       92  Crime|Drama|Action|Thriller|Science Fiction   \n",
       "2090       92  Crime|Drama|Action|Thriller|Science Fiction   \n",
       "\n",
       "        production_companies release_date  vote_count  vote_average  \\\n",
       "2089  Namco|Light Song Films      3/20/10         110           5.0   \n",
       "2090  Namco|Light Song Films      3/20/10         110           5.0   \n",
       "\n",
       "      release_year  \n",
       "2089          2010  \n",
       "2090          2010  "
      ]
     },
     "execution_count": 93,
     "metadata": {},
     "output_type": "execute_result"
    }
   ],
   "source": [
    "tmdb[tmdb.duplicated(keep=False)]"
   ]
  },
  {
   "cell_type": "markdown",
   "metadata": {},
   "source": [
    "This is obvious one row of data, which we can drop."
   ]
  },
  {
   "cell_type": "code",
   "execution_count": 94,
   "metadata": {},
   "outputs": [],
   "source": [
    "tmdb.drop_duplicates(inplace=True)"
   ]
  },
  {
   "cell_type": "markdown",
   "metadata": {},
   "source": [
    "We check again for any duplicates"
   ]
  },
  {
   "cell_type": "code",
   "execution_count": 95,
   "metadata": {},
   "outputs": [
    {
     "data": {
      "text/plain": [
       "0"
      ]
     },
     "execution_count": 95,
     "metadata": {},
     "output_type": "execute_result"
    }
   ],
   "source": [
    "tmdb.duplicated().sum()"
   ]
  },
  {
   "cell_type": "markdown",
   "metadata": {},
   "source": [
    "### Fixing the data types"
   ]
  },
  {
   "cell_type": "markdown",
   "metadata": {},
   "source": [
    "Here, we want to change the release_date column date type to datetime, that was identified earlier.\n",
    "\n",
    "I will also want to change the `vote_count` to millions so as to analyze the relationshipthat it has with `popularity` column which is already in millions."
   ]
  },
  {
   "cell_type": "markdown",
   "metadata": {},
   "source": [
    "#### Changing the `release_date` data type to datetime"
   ]
  },
  {
   "cell_type": "markdown",
   "metadata": {},
   "source": [
    "We will like to change the year of the `release_date` column with the `release_year` column to account for years before 1971"
   ]
  },
  {
   "cell_type": "code",
   "execution_count": 96,
   "metadata": {
    "scrolled": true
   },
   "outputs": [
    {
     "name": "stdout",
     "output_type": "stream",
     "text": [
      "DatetimeIndex(['2066-01-01'], dtype='datetime64[ns]', freq=None)\n"
     ]
    },
    {
     "data": {
      "text/plain": [
       "DatetimeIndex(['1966-01-01'], dtype='datetime64[ns]', freq=None)"
      ]
     },
     "execution_count": 96,
     "metadata": {},
     "output_type": "execute_result"
    }
   ],
   "source": [
    "# Showing why this needs to be done\n",
    "print(pd.to_datetime([\"1/1/66\"]))\n",
    "\n",
    "# Correcting the anomaly\n",
    "pd.to_datetime([\"1/1/1966\"])"
   ]
  },
  {
   "cell_type": "code",
   "execution_count": 97,
   "metadata": {},
   "outputs": [],
   "source": [
    "# WE replace the year part with the `release_year` column using the apply function\n",
    "#tmdb[\"release_date\"] = tmdb.apply(lambda x: x.release_date[:-2] + str(x.release_year), axis=1)\n",
    "\n",
    "# We now convert the datetype to datetime\n",
    "tmdb[\"release_date\"] = pd.to_datetime(tmdb.release_date)"
   ]
  },
  {
   "cell_type": "code",
   "execution_count": 98,
   "metadata": {
    "scrolled": true
   },
   "outputs": [
    {
     "data": {
      "text/plain": [
       "0   2015-06-09\n",
       "1   2015-05-13\n",
       "2   2015-03-18\n",
       "3   2015-12-15\n",
       "4   2015-04-01\n",
       "5   2015-12-25\n",
       "6   2015-06-23\n",
       "7   2015-09-30\n",
       "8   2015-06-17\n",
       "9   2015-06-09\n",
       "Name: release_date, dtype: datetime64[ns]"
      ]
     },
     "execution_count": 98,
     "metadata": {},
     "output_type": "execute_result"
    }
   ],
   "source": [
    "# printint out the release_year column\n",
    "tmdb.release_date.head(10)"
   ]
  },
  {
   "cell_type": "markdown",
   "metadata": {},
   "source": [
    "#### We now change the `vote_count` to millions"
   ]
  },
  {
   "cell_type": "markdown",
   "metadata": {},
   "source": [
    "In order to do this, we divide the `vote_count` column values by a million"
   ]
  },
  {
   "cell_type": "code",
   "execution_count": 99,
   "metadata": {},
   "outputs": [],
   "source": [
    "tmdb[\"vote_count\"] = tmdb.vote_count / 1000000"
   ]
  },
  {
   "cell_type": "code",
   "execution_count": 100,
   "metadata": {},
   "outputs": [
    {
     "data": {
      "text/plain": [
       "popularity                     float64\n",
       "budget                           int64\n",
       "revenue                          int64\n",
       "original_title                  object\n",
       "cast                            object\n",
       "director                        object\n",
       "runtime                          int64\n",
       "genres                          object\n",
       "production_companies            object\n",
       "release_date            datetime64[ns]\n",
       "vote_count                     float64\n",
       "vote_average                   float64\n",
       "release_year                     int64\n",
       "dtype: object"
      ]
     },
     "execution_count": 100,
     "metadata": {},
     "output_type": "execute_result"
    }
   ],
   "source": [
    "tmdb.dtypes"
   ]
  },
  {
   "cell_type": "markdown",
   "metadata": {},
   "source": [
    "We recheck the datatypes again"
   ]
  },
  {
   "cell_type": "markdown",
   "metadata": {},
   "source": [
    "<a id='eda'></a>\n",
    "## Exploratory Data Analysis\n",
    "\n",
    "It is now time to compute statistics and create visualizations with the goal of addressing the research questions that you posed in the Introduction section.\n",
    "\n"
   ]
  },
  {
   "cell_type": "markdown",
   "metadata": {},
   "source": [
    "We use pandas `describe` method to compute common statistical measures"
   ]
  },
  {
   "cell_type": "code",
   "execution_count": 101,
   "metadata": {
    "scrolled": false
   },
   "outputs": [
    {
     "data": {
      "text/html": [
       "<div>\n",
       "<style scoped>\n",
       "    .dataframe tbody tr th:only-of-type {\n",
       "        vertical-align: middle;\n",
       "    }\n",
       "\n",
       "    .dataframe tbody tr th {\n",
       "        vertical-align: top;\n",
       "    }\n",
       "\n",
       "    .dataframe thead th {\n",
       "        text-align: right;\n",
       "    }\n",
       "</style>\n",
       "<table border=\"1\" class=\"dataframe\">\n",
       "  <thead>\n",
       "    <tr style=\"text-align: right;\">\n",
       "      <th></th>\n",
       "      <th>popularity</th>\n",
       "      <th>budget</th>\n",
       "      <th>revenue</th>\n",
       "      <th>runtime</th>\n",
       "      <th>vote_count</th>\n",
       "      <th>vote_average</th>\n",
       "      <th>release_year</th>\n",
       "    </tr>\n",
       "  </thead>\n",
       "  <tbody>\n",
       "    <tr>\n",
       "      <th>count</th>\n",
       "      <td>9772.000000</td>\n",
       "      <td>9.772000e+03</td>\n",
       "      <td>9.772000e+03</td>\n",
       "      <td>9772.000000</td>\n",
       "      <td>9772.000000</td>\n",
       "      <td>9772.000000</td>\n",
       "      <td>9772.000000</td>\n",
       "    </tr>\n",
       "    <tr>\n",
       "      <th>mean</th>\n",
       "      <td>0.694721</td>\n",
       "      <td>1.617967e+07</td>\n",
       "      <td>4.423121e+07</td>\n",
       "      <td>102.926627</td>\n",
       "      <td>0.000239</td>\n",
       "      <td>5.963528</td>\n",
       "      <td>2000.878428</td>\n",
       "    </tr>\n",
       "    <tr>\n",
       "      <th>std</th>\n",
       "      <td>1.036931</td>\n",
       "      <td>3.221074e+07</td>\n",
       "      <td>1.225889e+08</td>\n",
       "      <td>27.877432</td>\n",
       "      <td>0.000603</td>\n",
       "      <td>0.913174</td>\n",
       "      <td>13.036794</td>\n",
       "    </tr>\n",
       "    <tr>\n",
       "      <th>min</th>\n",
       "      <td>0.000188</td>\n",
       "      <td>0.000000e+00</td>\n",
       "      <td>0.000000e+00</td>\n",
       "      <td>0.000000</td>\n",
       "      <td>0.000010</td>\n",
       "      <td>1.500000</td>\n",
       "      <td>1960.000000</td>\n",
       "    </tr>\n",
       "    <tr>\n",
       "      <th>25%</th>\n",
       "      <td>0.232710</td>\n",
       "      <td>0.000000e+00</td>\n",
       "      <td>0.000000e+00</td>\n",
       "      <td>90.000000</td>\n",
       "      <td>0.000018</td>\n",
       "      <td>5.400000</td>\n",
       "      <td>1994.000000</td>\n",
       "    </tr>\n",
       "    <tr>\n",
       "      <th>50%</th>\n",
       "      <td>0.419762</td>\n",
       "      <td>2.000000e+05</td>\n",
       "      <td>0.000000e+00</td>\n",
       "      <td>100.000000</td>\n",
       "      <td>0.000046</td>\n",
       "      <td>6.000000</td>\n",
       "      <td>2005.000000</td>\n",
       "    </tr>\n",
       "    <tr>\n",
       "      <th>75%</th>\n",
       "      <td>0.776408</td>\n",
       "      <td>1.928750e+07</td>\n",
       "      <td>3.104729e+07</td>\n",
       "      <td>112.000000</td>\n",
       "      <td>0.000173</td>\n",
       "      <td>6.600000</td>\n",
       "      <td>2011.000000</td>\n",
       "    </tr>\n",
       "    <tr>\n",
       "      <th>max</th>\n",
       "      <td>32.985763</td>\n",
       "      <td>4.250000e+08</td>\n",
       "      <td>2.781506e+09</td>\n",
       "      <td>877.000000</td>\n",
       "      <td>0.009767</td>\n",
       "      <td>8.700000</td>\n",
       "      <td>2015.000000</td>\n",
       "    </tr>\n",
       "  </tbody>\n",
       "</table>\n",
       "</div>"
      ],
      "text/plain": [
       "        popularity        budget       revenue      runtime   vote_count  \\\n",
       "count  9772.000000  9.772000e+03  9.772000e+03  9772.000000  9772.000000   \n",
       "mean      0.694721  1.617967e+07  4.423121e+07   102.926627     0.000239   \n",
       "std       1.036931  3.221074e+07  1.225889e+08    27.877432     0.000603   \n",
       "min       0.000188  0.000000e+00  0.000000e+00     0.000000     0.000010   \n",
       "25%       0.232710  0.000000e+00  0.000000e+00    90.000000     0.000018   \n",
       "50%       0.419762  2.000000e+05  0.000000e+00   100.000000     0.000046   \n",
       "75%       0.776408  1.928750e+07  3.104729e+07   112.000000     0.000173   \n",
       "max      32.985763  4.250000e+08  2.781506e+09   877.000000     0.009767   \n",
       "\n",
       "       vote_average  release_year  \n",
       "count   9772.000000   9772.000000  \n",
       "mean       5.963528   2000.878428  \n",
       "std        0.913174     13.036794  \n",
       "min        1.500000   1960.000000  \n",
       "25%        5.400000   1994.000000  \n",
       "50%        6.000000   2005.000000  \n",
       "75%        6.600000   2011.000000  \n",
       "max        8.700000   2015.000000  "
      ]
     },
     "execution_count": 101,
     "metadata": {},
     "output_type": "execute_result"
    }
   ],
   "source": [
    "tmdb.describe()"
   ]
  },
  {
   "cell_type": "markdown",
   "metadata": {},
   "source": [
    "Looking at the summary statistics, there are zero values in the `budget`, `revenue`, and `runtime` columns. this can affect our analysis if we don't come up with a solution."
   ]
  },
  {
   "cell_type": "code",
   "execution_count": 102,
   "metadata": {},
   "outputs": [
    {
     "data": {
      "text/plain": [
       "budget     4751\n",
       "revenue    5022\n",
       "runtime      13\n",
       "dtype: int64"
      ]
     },
     "execution_count": 102,
     "metadata": {},
     "output_type": "execute_result"
    }
   ],
   "source": [
    "# Counting the number of zeros ineach column\n",
    "tmdb[[\"budget\", \"revenue\", \"runtime\"]].apply(lambda x: x == 0).sum() "
   ]
  },
  {
   "cell_type": "markdown",
   "metadata": {},
   "source": [
    "To go further, we want check if there's a relationship between havin zeros in `budget` and `revenue` column"
   ]
  },
  {
   "cell_type": "code",
   "execution_count": 103,
   "metadata": {},
   "outputs": [
    {
     "name": "stdout",
     "output_type": "stream",
     "text": [
      "(3806, 13)\n",
      "(945, 13)\n"
     ]
    }
   ],
   "source": [
    "print(tmdb[(tmdb.budget == 0) & (tmdb.revenue == 0)].shape)\n",
    "print(tmdb[(tmdb.budget == 0) & (tmdb.revenue != 0)].shape)"
   ]
  },
  {
   "cell_type": "markdown",
   "metadata": {},
   "source": [
    "This shows that in most columns that has zeros in the `budget`, the `revenue` column is also zero"
   ]
  },
  {
   "cell_type": "markdown",
   "metadata": {},
   "source": [
    "We need to replace the zeros in  `budget` column with the mean, for the `revenue` column, we will change replace the zeros for only the rows where the budget is also zero"
   ]
  },
  {
   "cell_type": "markdown",
   "metadata": {},
   "source": [
    "We want calculate the mean for each year"
   ]
  },
  {
   "cell_type": "code",
   "execution_count": 104,
   "metadata": {
    "scrolled": false
   },
   "outputs": [
    {
     "data": {
      "text/html": [
       "<div>\n",
       "<style scoped>\n",
       "    .dataframe tbody tr th:only-of-type {\n",
       "        vertical-align: middle;\n",
       "    }\n",
       "\n",
       "    .dataframe tbody tr th {\n",
       "        vertical-align: top;\n",
       "    }\n",
       "\n",
       "    .dataframe thead th {\n",
       "        text-align: right;\n",
       "    }\n",
       "</style>\n",
       "<table border=\"1\" class=\"dataframe\">\n",
       "  <thead>\n",
       "    <tr style=\"text-align: right;\">\n",
       "      <th></th>\n",
       "      <th>budget</th>\n",
       "      <th>revenue</th>\n",
       "      <th>runtime</th>\n",
       "    </tr>\n",
       "    <tr>\n",
       "      <th>release_year</th>\n",
       "      <th></th>\n",
       "      <th></th>\n",
       "      <th></th>\n",
       "    </tr>\n",
       "  </thead>\n",
       "  <tbody>\n",
       "    <tr>\n",
       "      <th>1960</th>\n",
       "      <td>6.892796e+05</td>\n",
       "      <td>4.531406e+06</td>\n",
       "      <td>110.656250</td>\n",
       "    </tr>\n",
       "    <tr>\n",
       "      <th>1961</th>\n",
       "      <td>1.537900e+06</td>\n",
       "      <td>1.125734e+07</td>\n",
       "      <td>119.866667</td>\n",
       "    </tr>\n",
       "    <tr>\n",
       "      <th>1962</th>\n",
       "      <td>1.824071e+06</td>\n",
       "      <td>7.185995e+06</td>\n",
       "      <td>125.833333</td>\n",
       "    </tr>\n",
       "    <tr>\n",
       "      <th>1963</th>\n",
       "      <td>2.156809e+06</td>\n",
       "      <td>5.511911e+06</td>\n",
       "      <td>111.323529</td>\n",
       "    </tr>\n",
       "    <tr>\n",
       "      <th>1964</th>\n",
       "      <td>9.630039e+05</td>\n",
       "      <td>8.316629e+06</td>\n",
       "      <td>111.195122</td>\n",
       "    </tr>\n",
       "    <tr>\n",
       "      <th>1965</th>\n",
       "      <td>2.064856e+06</td>\n",
       "      <td>1.347300e+07</td>\n",
       "      <td>119.294118</td>\n",
       "    </tr>\n",
       "    <tr>\n",
       "      <th>1966</th>\n",
       "      <td>1.308064e+06</td>\n",
       "      <td>1.925834e+06</td>\n",
       "      <td>108.590909</td>\n",
       "    </tr>\n",
       "    <tr>\n",
       "      <th>1967</th>\n",
       "      <td>2.795889e+06</td>\n",
       "      <td>2.049541e+07</td>\n",
       "      <td>109.416667</td>\n",
       "    </tr>\n",
       "    <tr>\n",
       "      <th>1968</th>\n",
       "      <td>1.944297e+06</td>\n",
       "      <td>7.154945e+06</td>\n",
       "      <td>110.540541</td>\n",
       "    </tr>\n",
       "    <tr>\n",
       "      <th>1969</th>\n",
       "      <td>1.452727e+06</td>\n",
       "      <td>8.412313e+06</td>\n",
       "      <td>110.310345</td>\n",
       "    </tr>\n",
       "  </tbody>\n",
       "</table>\n",
       "</div>"
      ],
      "text/plain": [
       "                    budget       revenue     runtime\n",
       "release_year                                        \n",
       "1960          6.892796e+05  4.531406e+06  110.656250\n",
       "1961          1.537900e+06  1.125734e+07  119.866667\n",
       "1962          1.824071e+06  7.185995e+06  125.833333\n",
       "1963          2.156809e+06  5.511911e+06  111.323529\n",
       "1964          9.630039e+05  8.316629e+06  111.195122\n",
       "1965          2.064856e+06  1.347300e+07  119.294118\n",
       "1966          1.308064e+06  1.925834e+06  108.590909\n",
       "1967          2.795889e+06  2.049541e+07  109.416667\n",
       "1968          1.944297e+06  7.154945e+06  110.540541\n",
       "1969          1.452727e+06  8.412313e+06  110.310345"
      ]
     },
     "execution_count": 104,
     "metadata": {},
     "output_type": "execute_result"
    }
   ],
   "source": [
    "each_year_mean = tmdb.groupby(\"release_year\")[[\"budget\", \"revenue\", \"runtime\"]].mean()\n",
    "each_year_mean.head(10)"
   ]
  },
  {
   "cell_type": "markdown",
   "metadata": {},
   "source": [
    "We want to create a function to replace the zeros"
   ]
  },
  {
   "cell_type": "code",
   "execution_count": 105,
   "metadata": {},
   "outputs": [],
   "source": [
    "def zeros_replace(df1, col, df):\n",
    "    if (df1[col] == 0).all():\n",
    "        df1[col] = df.loc[df1.release_year, col]\n",
    "    return df1"
   ]
  },
  {
   "cell_type": "markdown",
   "metadata": {},
   "source": [
    "Creating a subset of the missing `budget` and `revenue` columns"
   ]
  },
  {
   "cell_type": "code",
   "execution_count": 106,
   "metadata": {
    "scrolled": true
   },
   "outputs": [
    {
     "data": {
      "text/html": [
       "<div>\n",
       "<style scoped>\n",
       "    .dataframe tbody tr th:only-of-type {\n",
       "        vertical-align: middle;\n",
       "    }\n",
       "\n",
       "    .dataframe tbody tr th {\n",
       "        vertical-align: top;\n",
       "    }\n",
       "\n",
       "    .dataframe thead th {\n",
       "        text-align: right;\n",
       "    }\n",
       "</style>\n",
       "<table border=\"1\" class=\"dataframe\">\n",
       "  <thead>\n",
       "    <tr style=\"text-align: right;\">\n",
       "      <th></th>\n",
       "      <th>popularity</th>\n",
       "      <th>budget</th>\n",
       "      <th>revenue</th>\n",
       "      <th>original_title</th>\n",
       "      <th>cast</th>\n",
       "      <th>director</th>\n",
       "      <th>runtime</th>\n",
       "      <th>genres</th>\n",
       "      <th>production_companies</th>\n",
       "      <th>release_date</th>\n",
       "      <th>vote_count</th>\n",
       "      <th>vote_average</th>\n",
       "      <th>release_year</th>\n",
       "    </tr>\n",
       "  </thead>\n",
       "  <tbody>\n",
       "    <tr>\n",
       "      <th>74</th>\n",
       "      <td>2.165433</td>\n",
       "      <td>0</td>\n",
       "      <td>0</td>\n",
       "      <td>Mythica: The Darkspore</td>\n",
       "      <td>Melanie Stone|Kevin Sorbo|Adam Johnson|Jake St...</td>\n",
       "      <td>Anne K. Black</td>\n",
       "      <td>108</td>\n",
       "      <td>Action|Adventure|Fantasy</td>\n",
       "      <td>Arrowstorm Entertainment</td>\n",
       "      <td>2015-06-24</td>\n",
       "      <td>0.000027</td>\n",
       "      <td>5.1</td>\n",
       "      <td>2015</td>\n",
       "    </tr>\n",
       "    <tr>\n",
       "      <th>75</th>\n",
       "      <td>2.141506</td>\n",
       "      <td>0</td>\n",
       "      <td>0</td>\n",
       "      <td>Me and Earl and the Dying Girl</td>\n",
       "      <td>Thomas Mann|RJ Cyler|Olivia Cooke|Connie Britt...</td>\n",
       "      <td>Alfonso Gomez-Rejon</td>\n",
       "      <td>105</td>\n",
       "      <td>Comedy|Drama</td>\n",
       "      <td>Indian Paintbrush</td>\n",
       "      <td>2015-06-12</td>\n",
       "      <td>0.000569</td>\n",
       "      <td>7.7</td>\n",
       "      <td>2015</td>\n",
       "    </tr>\n",
       "    <tr>\n",
       "      <th>92</th>\n",
       "      <td>1.876037</td>\n",
       "      <td>0</td>\n",
       "      <td>0</td>\n",
       "      <td>Mythica: The Necromancer</td>\n",
       "      <td>Melanie Stone|Adam Johnson|Kevin Sorbo|Nicola ...</td>\n",
       "      <td>A. Todd Smith</td>\n",
       "      <td>0</td>\n",
       "      <td>Fantasy|Action|Adventure</td>\n",
       "      <td>Arrowstorm Entertainment|Camera 40 Productions...</td>\n",
       "      <td>2015-12-19</td>\n",
       "      <td>0.000011</td>\n",
       "      <td>5.4</td>\n",
       "      <td>2015</td>\n",
       "    </tr>\n",
       "    <tr>\n",
       "      <th>100</th>\n",
       "      <td>1.724712</td>\n",
       "      <td>0</td>\n",
       "      <td>0</td>\n",
       "      <td>Frozen Fever</td>\n",
       "      <td>Kristen Bell|Idina Menzel|Jonathan Groff|Josh ...</td>\n",
       "      <td>Chris Buck|Jennifer Lee</td>\n",
       "      <td>8</td>\n",
       "      <td>Adventure|Animation|Family</td>\n",
       "      <td>Walt Disney Pictures|Walt Disney Animation Stu...</td>\n",
       "      <td>2015-03-09</td>\n",
       "      <td>0.000475</td>\n",
       "      <td>7.0</td>\n",
       "      <td>2015</td>\n",
       "    </tr>\n",
       "    <tr>\n",
       "      <th>101</th>\n",
       "      <td>1.661789</td>\n",
       "      <td>0</td>\n",
       "      <td>0</td>\n",
       "      <td>High-Rise</td>\n",
       "      <td>Tom Hiddleston|Sienna Miller|Jeremy Irons|Luke...</td>\n",
       "      <td>Ben Wheatley</td>\n",
       "      <td>119</td>\n",
       "      <td>Action|Drama|Science Fiction</td>\n",
       "      <td>Ingenious Media|HanWay Films|Scope Pictures|Re...</td>\n",
       "      <td>2015-09-26</td>\n",
       "      <td>0.000161</td>\n",
       "      <td>5.4</td>\n",
       "      <td>2015</td>\n",
       "    </tr>\n",
       "    <tr>\n",
       "      <th>...</th>\n",
       "      <td>...</td>\n",
       "      <td>...</td>\n",
       "      <td>...</td>\n",
       "      <td>...</td>\n",
       "      <td>...</td>\n",
       "      <td>...</td>\n",
       "      <td>...</td>\n",
       "      <td>...</td>\n",
       "      <td>...</td>\n",
       "      <td>...</td>\n",
       "      <td>...</td>\n",
       "      <td>...</td>\n",
       "      <td>...</td>\n",
       "    </tr>\n",
       "    <tr>\n",
       "      <th>10860</th>\n",
       "      <td>0.087034</td>\n",
       "      <td>0</td>\n",
       "      <td>0</td>\n",
       "      <td>Carry On Screaming!</td>\n",
       "      <td>Kenneth Williams|Jim Dale|Harry H. Corbett|Joa...</td>\n",
       "      <td>Gerald Thomas</td>\n",
       "      <td>87</td>\n",
       "      <td>Comedy</td>\n",
       "      <td>Peter Rogers Productions|Anglo-Amalgamated Fil...</td>\n",
       "      <td>2066-05-20</td>\n",
       "      <td>0.000013</td>\n",
       "      <td>7.0</td>\n",
       "      <td>1966</td>\n",
       "    </tr>\n",
       "    <tr>\n",
       "      <th>10861</th>\n",
       "      <td>0.080598</td>\n",
       "      <td>0</td>\n",
       "      <td>0</td>\n",
       "      <td>The Endless Summer</td>\n",
       "      <td>Michael Hynson|Robert August|Lord 'Tally Ho' B...</td>\n",
       "      <td>Bruce Brown</td>\n",
       "      <td>95</td>\n",
       "      <td>Documentary</td>\n",
       "      <td>Bruce Brown Films</td>\n",
       "      <td>2066-06-15</td>\n",
       "      <td>0.000011</td>\n",
       "      <td>7.4</td>\n",
       "      <td>1966</td>\n",
       "    </tr>\n",
       "    <tr>\n",
       "      <th>10862</th>\n",
       "      <td>0.065543</td>\n",
       "      <td>0</td>\n",
       "      <td>0</td>\n",
       "      <td>Grand Prix</td>\n",
       "      <td>James Garner|Eva Marie Saint|Yves Montand|Tosh...</td>\n",
       "      <td>John Frankenheimer</td>\n",
       "      <td>176</td>\n",
       "      <td>Action|Adventure|Drama</td>\n",
       "      <td>Cherokee Productions|Joel Productions|Douglas ...</td>\n",
       "      <td>2066-12-21</td>\n",
       "      <td>0.000020</td>\n",
       "      <td>5.7</td>\n",
       "      <td>1966</td>\n",
       "    </tr>\n",
       "    <tr>\n",
       "      <th>10863</th>\n",
       "      <td>0.065141</td>\n",
       "      <td>0</td>\n",
       "      <td>0</td>\n",
       "      <td>Beregis Avtomobilya</td>\n",
       "      <td>Innokentiy Smoktunovskiy|Oleg Efremov|Georgi Z...</td>\n",
       "      <td>Eldar Ryazanov</td>\n",
       "      <td>94</td>\n",
       "      <td>Mystery|Comedy</td>\n",
       "      <td>Mosfilm</td>\n",
       "      <td>2066-01-01</td>\n",
       "      <td>0.000011</td>\n",
       "      <td>6.5</td>\n",
       "      <td>1966</td>\n",
       "    </tr>\n",
       "    <tr>\n",
       "      <th>10864</th>\n",
       "      <td>0.064317</td>\n",
       "      <td>0</td>\n",
       "      <td>0</td>\n",
       "      <td>What's Up, Tiger Lily?</td>\n",
       "      <td>Tatsuya Mihashi|Akiko Wakabayashi|Mie Hama|Joh...</td>\n",
       "      <td>Woody Allen</td>\n",
       "      <td>80</td>\n",
       "      <td>Action|Comedy</td>\n",
       "      <td>Benedict Pictures Corp.</td>\n",
       "      <td>2066-11-02</td>\n",
       "      <td>0.000022</td>\n",
       "      <td>5.4</td>\n",
       "      <td>1966</td>\n",
       "    </tr>\n",
       "  </tbody>\n",
       "</table>\n",
       "<p>3806 rows × 13 columns</p>\n",
       "</div>"
      ],
      "text/plain": [
       "       popularity  budget  revenue                  original_title  \\\n",
       "74       2.165433       0        0          Mythica: The Darkspore   \n",
       "75       2.141506       0        0  Me and Earl and the Dying Girl   \n",
       "92       1.876037       0        0        Mythica: The Necromancer   \n",
       "100      1.724712       0        0                    Frozen Fever   \n",
       "101      1.661789       0        0                       High-Rise   \n",
       "...           ...     ...      ...                             ...   \n",
       "10860    0.087034       0        0             Carry On Screaming!   \n",
       "10861    0.080598       0        0              The Endless Summer   \n",
       "10862    0.065543       0        0                      Grand Prix   \n",
       "10863    0.065141       0        0             Beregis Avtomobilya   \n",
       "10864    0.064317       0        0          What's Up, Tiger Lily?   \n",
       "\n",
       "                                                    cast  \\\n",
       "74     Melanie Stone|Kevin Sorbo|Adam Johnson|Jake St...   \n",
       "75     Thomas Mann|RJ Cyler|Olivia Cooke|Connie Britt...   \n",
       "92     Melanie Stone|Adam Johnson|Kevin Sorbo|Nicola ...   \n",
       "100    Kristen Bell|Idina Menzel|Jonathan Groff|Josh ...   \n",
       "101    Tom Hiddleston|Sienna Miller|Jeremy Irons|Luke...   \n",
       "...                                                  ...   \n",
       "10860  Kenneth Williams|Jim Dale|Harry H. Corbett|Joa...   \n",
       "10861  Michael Hynson|Robert August|Lord 'Tally Ho' B...   \n",
       "10862  James Garner|Eva Marie Saint|Yves Montand|Tosh...   \n",
       "10863  Innokentiy Smoktunovskiy|Oleg Efremov|Georgi Z...   \n",
       "10864  Tatsuya Mihashi|Akiko Wakabayashi|Mie Hama|Joh...   \n",
       "\n",
       "                      director  runtime                        genres  \\\n",
       "74               Anne K. Black      108      Action|Adventure|Fantasy   \n",
       "75         Alfonso Gomez-Rejon      105                  Comedy|Drama   \n",
       "92               A. Todd Smith        0      Fantasy|Action|Adventure   \n",
       "100    Chris Buck|Jennifer Lee        8    Adventure|Animation|Family   \n",
       "101               Ben Wheatley      119  Action|Drama|Science Fiction   \n",
       "...                        ...      ...                           ...   \n",
       "10860            Gerald Thomas       87                        Comedy   \n",
       "10861              Bruce Brown       95                   Documentary   \n",
       "10862       John Frankenheimer      176        Action|Adventure|Drama   \n",
       "10863           Eldar Ryazanov       94                Mystery|Comedy   \n",
       "10864              Woody Allen       80                 Action|Comedy   \n",
       "\n",
       "                                    production_companies release_date  \\\n",
       "74                              Arrowstorm Entertainment   2015-06-24   \n",
       "75                                     Indian Paintbrush   2015-06-12   \n",
       "92     Arrowstorm Entertainment|Camera 40 Productions...   2015-12-19   \n",
       "100    Walt Disney Pictures|Walt Disney Animation Stu...   2015-03-09   \n",
       "101    Ingenious Media|HanWay Films|Scope Pictures|Re...   2015-09-26   \n",
       "...                                                  ...          ...   \n",
       "10860  Peter Rogers Productions|Anglo-Amalgamated Fil...   2066-05-20   \n",
       "10861                                  Bruce Brown Films   2066-06-15   \n",
       "10862  Cherokee Productions|Joel Productions|Douglas ...   2066-12-21   \n",
       "10863                                            Mosfilm   2066-01-01   \n",
       "10864                            Benedict Pictures Corp.   2066-11-02   \n",
       "\n",
       "       vote_count  vote_average  release_year  \n",
       "74       0.000027           5.1          2015  \n",
       "75       0.000569           7.7          2015  \n",
       "92       0.000011           5.4          2015  \n",
       "100      0.000475           7.0          2015  \n",
       "101      0.000161           5.4          2015  \n",
       "...           ...           ...           ...  \n",
       "10860    0.000013           7.0          1966  \n",
       "10861    0.000011           7.4          1966  \n",
       "10862    0.000020           5.7          1966  \n",
       "10863    0.000011           6.5          1966  \n",
       "10864    0.000022           5.4          1966  \n",
       "\n",
       "[3806 rows x 13 columns]"
      ]
     },
     "execution_count": 106,
     "metadata": {},
     "output_type": "execute_result"
    }
   ],
   "source": [
    "missing_budget_revenue = tmdb[(tmdb.budget == 0) & (tmdb.revenue == 0)]\n",
    "missing_budget_revenue"
   ]
  },
  {
   "cell_type": "markdown",
   "metadata": {},
   "source": [
    "We now replace the zeros"
   ]
  },
  {
   "cell_type": "code",
   "execution_count": 107,
   "metadata": {},
   "outputs": [],
   "source": [
    "missing_budget_revenue = missing_budget_revenue.apply(\n",
    "    lambda x: zeros_replace(x, ['budget', 'revenue'], each_year_mean),\n",
    "    axis=1)\n",
    "\n",
    "tmdb[tmdb.index.isin(missing_budget_revenue.index)] = missing_budget_revenue\n"
   ]
  },
  {
   "cell_type": "markdown",
   "metadata": {},
   "source": [
    "Rechecking the dataset again"
   ]
  },
  {
   "cell_type": "code",
   "execution_count": 108,
   "metadata": {},
   "outputs": [
    {
     "name": "stdout",
     "output_type": "stream",
     "text": [
      "(0, 13)\n"
     ]
    }
   ],
   "source": [
    "print(tmdb[(tmdb.budget == 0) & (tmdb.revenue == 0)].shape)\n"
   ]
  },
  {
   "cell_type": "markdown",
   "metadata": {},
   "source": [
    "We now remove the zeros in runtime `column` and the remaining zeros in `budget` column as before "
   ]
  },
  {
   "cell_type": "code",
   "execution_count": 109,
   "metadata": {
    "scrolled": true
   },
   "outputs": [],
   "source": [
    "# Filtering the dataset\n",
    "missing_runtime_subset = tmdb[tmdb.runtime == 0]\n",
    "missing_budget_subset = tmdb[tmdb.budget == 0]\n",
    "\n",
    "# Replacing zeros in the subset\n",
    "missing_runtime_subset = missing_runtime_subset.apply(lambda x: zeros_replace(x, [\"runtime\"], each_year_mean), axis=1)\n",
    "missing_budget_subset = missing_budget_subset.apply(lambda x: zeros_replace(x, [\"budget\"], each_year_mean), axis=1)\n",
    "\n",
    "# replacing in the dataset\n",
    "tmdb[tmdb.index.isin(missing_runtime_subset.index)] = missing_runtime_subset\n",
    "tmdb[tmdb.index.isin(missing_budget_subset.index)] = missing_budget_subset\n"
   ]
  },
  {
   "cell_type": "markdown",
   "metadata": {},
   "source": [
    "Rechecking again "
   ]
  },
  {
   "cell_type": "code",
   "execution_count": 110,
   "metadata": {
    "scrolled": true
   },
   "outputs": [
    {
     "name": "stdout",
     "output_type": "stream",
     "text": [
      "(0, 13)\n",
      "(0, 13)\n"
     ]
    }
   ],
   "source": [
    "print(tmdb[tmdb.runtime == 0].shape)\n",
    "print(tmdb[tmdb.budget == 0].shape)"
   ]
  },
  {
   "cell_type": "markdown",
   "metadata": {},
   "source": [
    "We now drop the remaining zeros in the "
   ]
  },
  {
   "cell_type": "code",
   "execution_count": 111,
   "metadata": {
    "scrolled": true
   },
   "outputs": [
    {
     "name": "stdout",
     "output_type": "stream",
     "text": [
      "(8556, 13)\n"
     ]
    }
   ],
   "source": [
    "# Dropping the zeros\n",
    "tmdb.drop(tmdb[tmdb.revenue == 0].index, inplace=True)\n",
    "\n",
    "# Final shape of the data set\n",
    "print(tmdb.shape)"
   ]
  },
  {
   "cell_type": "markdown",
   "metadata": {},
   "source": [
    "We finally check if we have correct all the anomalies."
   ]
  },
  {
   "cell_type": "code",
   "execution_count": 112,
   "metadata": {},
   "outputs": [
    {
     "data": {
      "text/html": [
       "<div>\n",
       "<style scoped>\n",
       "    .dataframe tbody tr th:only-of-type {\n",
       "        vertical-align: middle;\n",
       "    }\n",
       "\n",
       "    .dataframe tbody tr th {\n",
       "        vertical-align: top;\n",
       "    }\n",
       "\n",
       "    .dataframe thead th {\n",
       "        text-align: right;\n",
       "    }\n",
       "</style>\n",
       "<table border=\"1\" class=\"dataframe\">\n",
       "  <thead>\n",
       "    <tr style=\"text-align: right;\">\n",
       "      <th></th>\n",
       "      <th>popularity</th>\n",
       "      <th>budget</th>\n",
       "      <th>revenue</th>\n",
       "      <th>runtime</th>\n",
       "      <th>vote_count</th>\n",
       "      <th>vote_average</th>\n",
       "      <th>release_year</th>\n",
       "    </tr>\n",
       "  </thead>\n",
       "  <tbody>\n",
       "    <tr>\n",
       "      <th>count</th>\n",
       "      <td>8556.000000</td>\n",
       "      <td>8.556000e+03</td>\n",
       "      <td>8.556000e+03</td>\n",
       "      <td>8556.000000</td>\n",
       "      <td>8556.000000</td>\n",
       "      <td>8556.000000</td>\n",
       "      <td>8556.000000</td>\n",
       "    </tr>\n",
       "    <tr>\n",
       "      <th>mean</th>\n",
       "      <td>0.733387</td>\n",
       "      <td>2.508357e+07</td>\n",
       "      <td>6.951224e+07</td>\n",
       "      <td>103.224297</td>\n",
       "      <td>0.000264</td>\n",
       "      <td>6.008555</td>\n",
       "      <td>2000.883824</td>\n",
       "    </tr>\n",
       "    <tr>\n",
       "      <th>std</th>\n",
       "      <td>1.095286</td>\n",
       "      <td>3.082744e+07</td>\n",
       "      <td>1.243297e+08</td>\n",
       "      <td>27.562515</td>\n",
       "      <td>0.000639</td>\n",
       "      <td>0.896003</td>\n",
       "      <td>12.994818</td>\n",
       "    </tr>\n",
       "    <tr>\n",
       "      <th>min</th>\n",
       "      <td>0.000188</td>\n",
       "      <td>1.000000e+00</td>\n",
       "      <td>2.000000e+00</td>\n",
       "      <td>3.000000</td>\n",
       "      <td>0.000010</td>\n",
       "      <td>1.500000</td>\n",
       "      <td>1960.000000</td>\n",
       "    </tr>\n",
       "    <tr>\n",
       "      <th>25%</th>\n",
       "      <td>0.237060</td>\n",
       "      <td>1.033505e+07</td>\n",
       "      <td>1.916562e+07</td>\n",
       "      <td>91.000000</td>\n",
       "      <td>0.000019</td>\n",
       "      <td>5.500000</td>\n",
       "      <td>1994.000000</td>\n",
       "    </tr>\n",
       "    <tr>\n",
       "      <th>50%</th>\n",
       "      <td>0.435536</td>\n",
       "      <td>1.700000e+07</td>\n",
       "      <td>4.356401e+07</td>\n",
       "      <td>100.000000</td>\n",
       "      <td>0.000050</td>\n",
       "      <td>6.100000</td>\n",
       "      <td>2005.000000</td>\n",
       "    </tr>\n",
       "    <tr>\n",
       "      <th>75%</th>\n",
       "      <td>0.833576</td>\n",
       "      <td>2.500000e+07</td>\n",
       "      <td>5.667039e+07</td>\n",
       "      <td>113.000000</td>\n",
       "      <td>0.000198</td>\n",
       "      <td>6.600000</td>\n",
       "      <td>2011.000000</td>\n",
       "    </tr>\n",
       "    <tr>\n",
       "      <th>max</th>\n",
       "      <td>32.985763</td>\n",
       "      <td>4.250000e+08</td>\n",
       "      <td>2.781506e+09</td>\n",
       "      <td>877.000000</td>\n",
       "      <td>0.009767</td>\n",
       "      <td>8.700000</td>\n",
       "      <td>2015.000000</td>\n",
       "    </tr>\n",
       "  </tbody>\n",
       "</table>\n",
       "</div>"
      ],
      "text/plain": [
       "        popularity        budget       revenue      runtime   vote_count  \\\n",
       "count  8556.000000  8.556000e+03  8.556000e+03  8556.000000  8556.000000   \n",
       "mean      0.733387  2.508357e+07  6.951224e+07   103.224297     0.000264   \n",
       "std       1.095286  3.082744e+07  1.243297e+08    27.562515     0.000639   \n",
       "min       0.000188  1.000000e+00  2.000000e+00     3.000000     0.000010   \n",
       "25%       0.237060  1.033505e+07  1.916562e+07    91.000000     0.000019   \n",
       "50%       0.435536  1.700000e+07  4.356401e+07   100.000000     0.000050   \n",
       "75%       0.833576  2.500000e+07  5.667039e+07   113.000000     0.000198   \n",
       "max      32.985763  4.250000e+08  2.781506e+09   877.000000     0.009767   \n",
       "\n",
       "       vote_average  release_year  \n",
       "count   8556.000000   8556.000000  \n",
       "mean       6.008555   2000.883824  \n",
       "std        0.896003     12.994818  \n",
       "min        1.500000   1960.000000  \n",
       "25%        5.500000   1994.000000  \n",
       "50%        6.100000   2005.000000  \n",
       "75%        6.600000   2011.000000  \n",
       "max        8.700000   2015.000000  "
      ]
     },
     "execution_count": 112,
     "metadata": {},
     "output_type": "execute_result"
    }
   ],
   "source": [
    "tmdb.describe()"
   ]
  },
  {
   "cell_type": "markdown",
   "metadata": {},
   "source": [
    "### Research Question 1 (Which genres are most popular from year to year?)"
   ]
  },
  {
   "cell_type": "markdown",
   "metadata": {},
   "source": [
    "As was discussed in the introduction, the `genres` column has values that are separated by (|) symbol.\n",
    "so it it needs to be preprocessed before it can be used."
   ]
  },
  {
   "cell_type": "markdown",
   "metadata": {},
   "source": [
    "To do this, we will create a function to split the values into different rows of data."
   ]
  },
  {
   "cell_type": "code",
   "execution_count": 113,
   "metadata": {},
   "outputs": [],
   "source": [
    "def split_multivalue_columns(df, col, delimiter=\"|\"):\n",
    "    # making a copy of the Data Frame\n",
    "    df_copy = df.copy()\n",
    "    \n",
    "    # First we split the string values  where the (|) is\n",
    "    df_copy[col] = df_copy[col].str.split(delimiter)\n",
    "    \n",
    "    # Then the splitted values are accross different columns\n",
    "    return df_copy.explode(col)"
   ]
  },
  {
   "cell_type": "code",
   "execution_count": 114,
   "metadata": {},
   "outputs": [
    {
     "name": "stdout",
     "output_type": "stream",
     "text": [
      "(8556, 13)\n"
     ]
    },
    {
     "data": {
      "text/plain": [
       "(21575, 13)"
      ]
     },
     "execution_count": 114,
     "metadata": {},
     "output_type": "execute_result"
    }
   ],
   "source": [
    "# We first check the structure of the dataset\n",
    "print(tmdb.shape)\n",
    "\n",
    "# preprocessing the column with the function\n",
    "tmdb_genre = split_multivalue_columns(tmdb, \"genres\")\n",
    "\n",
    "# rechecking the structure again\n",
    "tmdb_genre.shape"
   ]
  },
  {
   "cell_type": "markdown",
   "metadata": {},
   "source": [
    "The data points has grown from `8556` to `21,575`"
   ]
  },
  {
   "cell_type": "markdown",
   "metadata": {},
   "source": [
    "Let us check the number genres in the column and their number"
   ]
  },
  {
   "cell_type": "code",
   "execution_count": 115,
   "metadata": {},
   "outputs": [
    {
     "name": "stdout",
     "output_type": "stream",
     "text": [
      "['Action' 'Adventure' 'Science Fiction' 'Thriller' 'Fantasy' 'Crime'\n",
      " 'Western' 'Drama' 'Family' 'Animation' 'Comedy' 'Mystery' 'Romance' 'War'\n",
      " 'History' 'Music' 'Horror' 'Documentary' 'TV Movie' 'Foreign']\n"
     ]
    },
    {
     "data": {
      "text/plain": [
       "20"
      ]
     },
     "execution_count": 115,
     "metadata": {},
     "output_type": "execute_result"
    }
   ],
   "source": [
    "print(tmdb_genre.genres.unique())\n",
    "tmdb_genre.genres.nunique()"
   ]
  },
  {
   "cell_type": "markdown",
   "metadata": {},
   "source": [
    "#### Lets look at first part of the question 1, which genre seem to be the most popular? "
   ]
  },
  {
   "cell_type": "code",
   "execution_count": 116,
   "metadata": {},
   "outputs": [
    {
     "data": {
      "text/html": [
       "<div>\n",
       "<style scoped>\n",
       "    .dataframe tbody tr th:only-of-type {\n",
       "        vertical-align: middle;\n",
       "    }\n",
       "\n",
       "    .dataframe tbody tr th {\n",
       "        vertical-align: top;\n",
       "    }\n",
       "\n",
       "    .dataframe thead th {\n",
       "        text-align: right;\n",
       "    }\n",
       "</style>\n",
       "<table border=\"1\" class=\"dataframe\">\n",
       "  <thead>\n",
       "    <tr style=\"text-align: right;\">\n",
       "      <th></th>\n",
       "      <th>genres</th>\n",
       "      <th>popularity</th>\n",
       "    </tr>\n",
       "  </thead>\n",
       "  <tbody>\n",
       "    <tr>\n",
       "      <th>1</th>\n",
       "      <td>Adventure</td>\n",
       "      <td>1.300652</td>\n",
       "    </tr>\n",
       "    <tr>\n",
       "      <th>15</th>\n",
       "      <td>Science Fiction</td>\n",
       "      <td>1.173695</td>\n",
       "    </tr>\n",
       "    <tr>\n",
       "      <th>8</th>\n",
       "      <td>Fantasy</td>\n",
       "      <td>1.134354</td>\n",
       "    </tr>\n",
       "    <tr>\n",
       "      <th>0</th>\n",
       "      <td>Action</td>\n",
       "      <td>1.050177</td>\n",
       "    </tr>\n",
       "    <tr>\n",
       "      <th>2</th>\n",
       "      <td>Animation</td>\n",
       "      <td>0.945121</td>\n",
       "    </tr>\n",
       "    <tr>\n",
       "      <th>7</th>\n",
       "      <td>Family</td>\n",
       "      <td>0.880988</td>\n",
       "    </tr>\n",
       "    <tr>\n",
       "      <th>17</th>\n",
       "      <td>Thriller</td>\n",
       "      <td>0.832120</td>\n",
       "    </tr>\n",
       "    <tr>\n",
       "      <th>4</th>\n",
       "      <td>Crime</td>\n",
       "      <td>0.808287</td>\n",
       "    </tr>\n",
       "    <tr>\n",
       "      <th>18</th>\n",
       "      <td>War</td>\n",
       "      <td>0.803176</td>\n",
       "    </tr>\n",
       "    <tr>\n",
       "      <th>13</th>\n",
       "      <td>Mystery</td>\n",
       "      <td>0.760877</td>\n",
       "    </tr>\n",
       "    <tr>\n",
       "      <th>3</th>\n",
       "      <td>Comedy</td>\n",
       "      <td>0.654312</td>\n",
       "    </tr>\n",
       "    <tr>\n",
       "      <th>6</th>\n",
       "      <td>Drama</td>\n",
       "      <td>0.653913</td>\n",
       "    </tr>\n",
       "    <tr>\n",
       "      <th>10</th>\n",
       "      <td>History</td>\n",
       "      <td>0.652470</td>\n",
       "    </tr>\n",
       "    <tr>\n",
       "      <th>14</th>\n",
       "      <td>Romance</td>\n",
       "      <td>0.649014</td>\n",
       "    </tr>\n",
       "    <tr>\n",
       "      <th>19</th>\n",
       "      <td>Western</td>\n",
       "      <td>0.638052</td>\n",
       "    </tr>\n",
       "    <tr>\n",
       "      <th>12</th>\n",
       "      <td>Music</td>\n",
       "      <td>0.564887</td>\n",
       "    </tr>\n",
       "    <tr>\n",
       "      <th>11</th>\n",
       "      <td>Horror</td>\n",
       "      <td>0.508793</td>\n",
       "    </tr>\n",
       "    <tr>\n",
       "      <th>16</th>\n",
       "      <td>TV Movie</td>\n",
       "      <td>0.286527</td>\n",
       "    </tr>\n",
       "    <tr>\n",
       "      <th>5</th>\n",
       "      <td>Documentary</td>\n",
       "      <td>0.214409</td>\n",
       "    </tr>\n",
       "    <tr>\n",
       "      <th>9</th>\n",
       "      <td>Foreign</td>\n",
       "      <td>0.206432</td>\n",
       "    </tr>\n",
       "  </tbody>\n",
       "</table>\n",
       "</div>"
      ],
      "text/plain": [
       "             genres  popularity\n",
       "1         Adventure    1.300652\n",
       "15  Science Fiction    1.173695\n",
       "8           Fantasy    1.134354\n",
       "0            Action    1.050177\n",
       "2         Animation    0.945121\n",
       "7            Family    0.880988\n",
       "17         Thriller    0.832120\n",
       "4             Crime    0.808287\n",
       "18              War    0.803176\n",
       "13          Mystery    0.760877\n",
       "3            Comedy    0.654312\n",
       "6             Drama    0.653913\n",
       "10          History    0.652470\n",
       "14          Romance    0.649014\n",
       "19          Western    0.638052\n",
       "12            Music    0.564887\n",
       "11           Horror    0.508793\n",
       "16         TV Movie    0.286527\n",
       "5       Documentary    0.214409\n",
       "9           Foreign    0.206432"
      ]
     },
     "execution_count": 116,
     "metadata": {},
     "output_type": "execute_result"
    }
   ],
   "source": [
    "# Group the genres\n",
    "tmdb_genre_grouped = tmdb_genre.groupby(\"genres\")\n",
    "\n",
    "# computing the mean, resetting the index and sorting by popularity\n",
    "tmdb_pop = tmdb_genre_grouped.popularity.mean().reset_index().sort_values(\"popularity\", ascending=False)\n",
    "tmdb_pop"
   ]
  },
  {
   "cell_type": "markdown",
   "metadata": {},
   "source": [
    "#### We want to create a custom function to help us with our visualizations."
   ]
  },
  {
   "cell_type": "code",
   "execution_count": 117,
   "metadata": {},
   "outputs": [],
   "source": [
    "def custom_plot(df, col, title, xlabel, ylabel, figsize=(16, 8), add_mean=False, \n",
    "    plot_type=\"line\", xticks=\"Keep_original\", legend:list=[],\n",
    "    legend_loc=\"upper left\", *plot_args, **plot_kwargs):\n",
    "    plt.clf()\n",
    "    fig, ax = plt.subplots(figsize=figsize)\n",
    "\n",
    "    # setting up the graph\n",
    "    length = df.shape[0]\n",
    "    x_tick_points = np.linspace(1, length, length)\n",
    "\n",
    "    # getting the plot type\n",
    "    function = ax.plot if plot_type == 'line' else ax.bar\n",
    "\n",
    "    # getting the bar's width\n",
    "    bar_width = plot_kwargs.get('width', 0)\n",
    "\n",
    "    # drawing the graph\n",
    "    if type(col) in [str, tuple, int]:\n",
    "        function(x_tick_points, df[col], **plot_kwargs)\n",
    "    elif type(col) == list:\n",
    "        for idx, column in enumerate(col):\n",
    "            function(x_tick_points + idx * bar_width, df[column], **plot_kwargs)\n",
    "    if add_mean:\n",
    "        mean_value = round(df[col].mean(), 2)\n",
    "        ax.plot(x_tick_points, np.repeat(mean_value, length), \"--\")\n",
    "\n",
    "    x_tick_position = 0\n",
    "    if plot_type == \"bar\" and type(col) == list:\n",
    "        bar_width = bar_width or 0.6\n",
    "        x_tick_position = bar_width * ((len(columns) - 1) / 2)\n",
    "\n",
    "    if add_mean and not legend:\n",
    "        # Changing column names to legend lists\n",
    "        columns = [col] if type(col) in [str, int, tuple] else columns\n",
    "        columns = [' '.join(str(column).split('_')).title() for column in columns]\n",
    "        legend += columns\n",
    "        legend.append(\"Mean\")\n",
    "    elif len(legend) and add_mean:\n",
    "        legend.append(\"Mean\")\n",
    "\n",
    "    if len(legend):\n",
    "        plt.legend(legend, loc=legend_loc, fontsize=12)\n",
    "\n",
    "    legend.clear()\n",
    "    plt.title(title, fontsize=18)\n",
    "    plt.xlabel(xlabel, fontsize=16)\n",
    "    plt.ylabel(ylabel, fontsize=16)\n",
    "    plt.xticks(x_tick_points + x_tick_position, df[xticks], rotation=45, horizontalalignment='right');"
   ]
  },
  {
   "cell_type": "markdown",
   "metadata": {},
   "source": [
    "We want to now plot the `tmdb_pop` dataframe to visualize it."
   ]
  },
  {
   "cell_type": "code",
   "execution_count": 1,
   "metadata": {},
   "outputs": [
    {
     "ename": "NameError",
     "evalue": "name 'custom_plot' is not defined",
     "output_type": "error",
     "traceback": [
      "\u001b[1;31m---------------------------------------------------------------------------\u001b[0m",
      "\u001b[1;31mNameError\u001b[0m                                 Traceback (most recent call last)",
      "Input \u001b[1;32mIn [1]\u001b[0m, in \u001b[0;36m<cell line: 2>\u001b[1;34m()\u001b[0m\n\u001b[0;32m      1\u001b[0m \u001b[38;5;66;03m# we call the custom_plot function to plot the graph\u001b[39;00m\n\u001b[1;32m----> 2\u001b[0m \u001b[43mcustom_plot\u001b[49m(tmdb_pop, \u001b[38;5;124m\"\u001b[39m\u001b[38;5;124mpopularity\u001b[39m\u001b[38;5;124m\"\u001b[39m, \u001b[38;5;124m\"\u001b[39m\u001b[38;5;124mPopularity of Genres\u001b[39m\u001b[38;5;124m\"\u001b[39m, \u001b[38;5;124m\"\u001b[39m\u001b[38;5;124mGenres\u001b[39m\u001b[38;5;124m\"\u001b[39m, \u001b[38;5;124m\"\u001b[39m\u001b[38;5;124mPopularity in millions\u001b[39m\u001b[38;5;124m\"\u001b[39m, xticks\u001b[38;5;241m=\u001b[39m\u001b[38;5;124m\"\u001b[39m\u001b[38;5;124mgenres\u001b[39m\u001b[38;5;124m\"\u001b[39m, plot_type\u001b[38;5;241m=\u001b[39m\u001b[38;5;124m\"\u001b[39m\u001b[38;5;124mbar\u001b[39m\u001b[38;5;124m\"\u001b[39m)\n",
      "\u001b[1;31mNameError\u001b[0m: name 'custom_plot' is not defined"
     ]
    }
   ],
   "source": [
    "# we call the custom_plot function to plot the graph\n",
    "custom_plot(tmdb_pop, \"popularity\", \"Popularity of Genres\", \"Genres\", \"Popularity in millions\", xticks=\"genres\", )"
   ]
  },
  {
   "cell_type": "markdown",
   "metadata": {},
   "source": [
    "From the graph we can see that `Adventure` is the most popualar movie genre. "
   ]
  },
  {
   "cell_type": "markdown",
   "metadata": {},
   "source": [
    "#### Now, lets look at the second part of the question. The genre that is most popular from year to year."
   ]
  },
  {
   "cell_type": "markdown",
   "metadata": {},
   "source": [
    "In order to do this, we have to group the dataset by the `release_year` and `genre` column. And then calculate mean of the `popularity` column, and get the max of each year."
   ]
  },
  {
   "cell_type": "code",
   "execution_count": 119,
   "metadata": {},
   "outputs": [],
   "source": [
    "# Grouping the dataset by release_year and genre column\n",
    "tmdb_genre_year_grouped = tmdb_genre.groupby([\"release_year\", \"genres\"])\n",
    "\n",
    "# Calculating the mean of popularity column\n",
    "tmdb_genre_year_pop = tmdb_genre_year_grouped.popularity.mean()\n",
    "#print(tmdb_genre_year_pop)\n",
    "\n",
    "# Subsetting to get the maximum average popularity for each year\n",
    "tmdb_genre_year_mean_max = tmdb_genre_year_pop[tmdb_genre_year_pop.groupby(level=0).idxmax()]\n",
    "#tmdb_genre_year_mean_max.reset_index().value_counts(\"genres\")\n"
   ]
  },
  {
   "cell_type": "markdown",
   "metadata": {},
   "source": [
    "To visualize the output"
   ]
  },
  {
   "cell_type": "code",
   "execution_count": 130,
   "metadata": {},
   "outputs": [
    {
     "data": {
      "text/plain": [
       "<Figure size 432x288 with 0 Axes>"
      ]
     },
     "metadata": {},
     "output_type": "display_data"
    },
    {
     "data": {
      "image/png": "[encoded data removed]",
      "text/plain": [
       "<Figure size 1152x576 with 1 Axes>"
      ]
     },
     "metadata": {
      "needs_background": "light"
     },
     "output_type": "display_data"
    }
   ],
   "source": [
    "# To create a list with the genre and year for the xticks\n",
    "x_labels = [\"{} - {}\".format(x[1], x[0] ) for x in list(tmdb_genre_year_mean_max.index)]\n",
    "df = pd.DataFrame({\"labels\": x_labels, \"popularity\": tmdb_genre_year_mean_max.reset_index()['popularity']})\n",
    "# Plotting the graph\n",
    "custom_plot(df,\"popularity\", \"The Popular Genre Every Year\", \"The Genre and Year\",\n",
    "    \"Average Popularity in Millions\", xticks=\"labels\", add_mean=True)"
   ]
  },
  {
   "cell_type": "markdown",
   "metadata": {},
   "source": [
    "From the graph, we can see that the genre that has the most popularity over the years is `Animation`, followed by `Fantasy` and then `Adventure`."
   ]
  },
  {
   "cell_type": "markdown",
   "metadata": {},
   "source": [
    "### Research Question 2  (What kinds of properties are associated with movies that have high revenues?\n",
    ")"
   ]
  },
  {
   "cell_type": "markdown",
   "metadata": {},
   "source": [
    "In order to explore further, lets look at visualization of budget and revenue"
   ]
  },
  {
   "cell_type": "code",
   "execution_count": 121,
   "metadata": {
    "scrolled": false
   },
   "outputs": [
    {
     "data": {
      "image/png": "[encoded data removed]",
      "text/plain": [
       "<Figure size 1152x576 with 2 Axes>"
      ]
     },
     "metadata": {
      "needs_background": "light"
     },
     "output_type": "display_data"
    }
   ],
   "source": [
    "fig, ax = plt.subplots(nrows=1, ncols=2, figsize=(16, 8))\n",
    "ax[0].hist(tmdb.budget)\n",
    "ax[0].set_title('Budget Column Histogram', fontsize=15)\n",
    "ax[0].set_ylabel(\"Number of Movies\")\n",
    "\n",
    "ax[1].hist(tmdb.revenue)\n",
    "ax[1].set_title('Revenue Column Histogram', fontsize=15)\n",
    "ax[0].set_ylabel(\"Number of Movies\");"
   ]
  },
  {
   "cell_type": "markdown",
   "metadata": {},
   "source": [
    "Lets get the net profit of all movies and store it in `net_profit` column"
   ]
  },
  {
   "cell_type": "code",
   "execution_count": 122,
   "metadata": {
    "scrolled": false
   },
   "outputs": [
    {
     "data": {
      "text/plain": [
       "0    1.363529e+09\n",
       "1    2.284364e+08\n",
       "2    1.852382e+08\n",
       "3    1.868178e+09\n",
       "4    1.316249e+09\n",
       "Name: net_profit, dtype: float64"
      ]
     },
     "execution_count": 122,
     "metadata": {},
     "output_type": "execute_result"
    }
   ],
   "source": [
    "tmdb[\"net_profit\"] = tmdb.revenue - tmdb.budget\n",
    "tmdb.net_profit.head()"
   ]
  },
  {
   "cell_type": "markdown",
   "metadata": {},
   "source": [
    "We will also use the 25 and 75 percentile to score successfull and tanked movies"
   ]
  },
  {
   "cell_type": "code",
   "execution_count": 123,
   "metadata": {},
   "outputs": [
    {
     "data": {
      "text/plain": [
       "count    8.556000e+03\n",
       "mean     4.442867e+07\n",
       "std      1.046486e+08\n",
       "min     -4.139124e+08\n",
       "25%      5.939216e+06\n",
       "50%      2.626803e+07\n",
       "75%      3.435121e+07\n",
       "max      2.544506e+09\n",
       "Name: net_profit, dtype: float64"
      ]
     },
     "execution_count": 123,
     "metadata": {},
     "output_type": "execute_result"
    }
   ],
   "source": [
    "tmdb.net_profit.describe()"
   ]
  },
  {
   "cell_type": "code",
   "execution_count": 124,
   "metadata": {},
   "outputs": [
    {
     "data": {
      "text/plain": [
       "((2399, 14), (2139, 14))"
      ]
     },
     "execution_count": 124,
     "metadata": {},
     "output_type": "execute_result"
    }
   ],
   "source": [
    "# Getting the successful and tanked movies\n",
    "successful_mov = tmdb[tmdb.net_profit >= 3.435121e+07]\n",
    "tanked_mov = tmdb[tmdb.net_profit <= 5.939216e+06]\n",
    "\n",
    "successful_mov.shape, tanked_mov.shape"
   ]
  },
  {
   "cell_type": "markdown",
   "metadata": {},
   "source": [
    "Now we want to compare the average budget of movies were commercially successful and those that tanked"
   ]
  },
  {
   "cell_type": "code",
   "execution_count": 125,
   "metadata": {
    "scrolled": true
   },
   "outputs": [
    {
     "data": {
      "text/plain": [
       "<Figure size 432x288 with 0 Axes>"
      ]
     },
     "metadata": {},
     "output_type": "display_data"
    },
    {
     "data": {
      "image/png": "[encoded data removed]",
      "text/plain": [
       "<Figure size 576x576 with 1 Axes>"
      ]
     },
     "metadata": {
      "needs_background": "light"
     },
     "output_type": "display_data"
    }
   ],
   "source": [
    "df = pd.DataFrame({'data': [tanked_mov.budget.mean(), successful_mov.budget.mean()], 'ticks': ['Tanked', 'Successful']})\n",
    "custom_plot(df, 'data', 'Successful vs Tanked Movies Average Budget', \"Movies\", 'Budget', xticks='ticks', \n",
    "    figsize=(8, 8), plot_type='bar')"
   ]
  },
  {
   "cell_type": "markdown",
   "metadata": {},
   "source": [
    "From the graph, we can see that the budget of successful movies are almost twice the budget of tanked movies."
   ]
  },
  {
   "cell_type": "markdown",
   "metadata": {},
   "source": [
    "#### Does having more budget lead to getting more popular or revenue?|"
   ]
  },
  {
   "cell_type": "code",
   "execution_count": 126,
   "metadata": {},
   "outputs": [],
   "source": [
    "tmdb['popularity_rank'] = tmdb.popularity.rank(method='dense', ascending=False).astype(int)\n",
    "tmdb['profit_rank'] = tmdb.net_profit.rank(method='dense', ascending=False).astype(int)"
   ]
  },
  {
   "cell_type": "code",
   "execution_count": 127,
   "metadata": {},
   "outputs": [
    {
     "data": {
      "text/html": [
       "<style type=\"text/css\">\n",
       "</style>\n",
       "<table id=\"T_af5e0\">\n",
       "  <thead>\n",
       "    <tr>\n",
       "      <th id=\"T_af5e0_level0_col0\" class=\"col_heading level0 col0\" >budget</th>\n",
       "      <th id=\"T_af5e0_level0_col1\" class=\"col_heading level0 col1\" >popularity</th>\n",
       "      <th id=\"T_af5e0_level0_col2\" class=\"col_heading level0 col2\" >popularity_rank</th>\n",
       "      <th id=\"T_af5e0_level0_col3\" class=\"col_heading level0 col3\" >profit_rank</th>\n",
       "    </tr>\n",
       "  </thead>\n",
       "  <tbody>\n",
       "    <tr>\n",
       "      <td id=\"T_af5e0_row0_col0\" class=\"data row0 col0\" >425000000.000000</td>\n",
       "      <td id=\"T_af5e0_row0_col1\" class=\"data row0 col1\" >0.250540</td>\n",
       "      <td id=\"T_af5e0_row0_col2\" class=\"data row0 col2\" >6249</td>\n",
       "      <td id=\"T_af5e0_row0_col3\" class=\"data row0 col3\" >4744</td>\n",
       "    </tr>\n",
       "    <tr>\n",
       "      <td id=\"T_af5e0_row1_col0\" class=\"data row1 col0\" >380000000.000000</td>\n",
       "      <td id=\"T_af5e0_row1_col1\" class=\"data row1 col1\" >4.955130</td>\n",
       "      <td id=\"T_af5e0_row1_col2\" class=\"data row1 col2\" >87</td>\n",
       "      <td id=\"T_af5e0_row1_col3\" class=\"data row1 col3\" >53</td>\n",
       "    </tr>\n",
       "    <tr>\n",
       "      <td id=\"T_af5e0_row2_col0\" class=\"data row2 col0\" >300000000.000000</td>\n",
       "      <td id=\"T_af5e0_row2_col1\" class=\"data row2 col1\" >4.965391</td>\n",
       "      <td id=\"T_af5e0_row2_col2\" class=\"data row2 col2\" >86</td>\n",
       "      <td id=\"T_af5e0_row2_col3\" class=\"data row2 col3\" >50</td>\n",
       "    </tr>\n",
       "    <tr>\n",
       "      <td id=\"T_af5e0_row3_col0\" class=\"data row3 col0\" >280000000.000000</td>\n",
       "      <td id=\"T_af5e0_row3_col1\" class=\"data row3 col1\" >5.944927</td>\n",
       "      <td id=\"T_af5e0_row3_col2\" class=\"data row3 col2\" >55</td>\n",
       "      <td id=\"T_af5e0_row3_col3\" class=\"data row3 col3\" >8</td>\n",
       "    </tr>\n",
       "    <tr>\n",
       "      <td id=\"T_af5e0_row4_col0\" class=\"data row4 col0\" >270000000.000000</td>\n",
       "      <td id=\"T_af5e0_row4_col1\" class=\"data row4 col1\" >1.957331</td>\n",
       "      <td id=\"T_af5e0_row4_col2\" class=\"data row4 col2\" >572</td>\n",
       "      <td id=\"T_af5e0_row4_col3\" class=\"data row4 col3\" >700</td>\n",
       "    </tr>\n",
       "    <tr>\n",
       "      <td id=\"T_af5e0_row5_col0\" class=\"data row5 col0\" >260000000.000000</td>\n",
       "      <td id=\"T_af5e0_row5_col1\" class=\"data row5 col1\" >2.865684</td>\n",
       "      <td id=\"T_af5e0_row5_col2\" class=\"data row5 col2\" >282</td>\n",
       "      <td id=\"T_af5e0_row5_col3\" class=\"data row5 col3\" >193</td>\n",
       "    </tr>\n",
       "    <tr>\n",
       "      <td id=\"T_af5e0_row6_col0\" class=\"data row6 col0\" >260000000.000000</td>\n",
       "      <td id=\"T_af5e0_row6_col1\" class=\"data row6 col1\" >1.588457</td>\n",
       "      <td id=\"T_af5e0_row6_col2\" class=\"data row6 col2\" >827</td>\n",
       "      <td id=\"T_af5e0_row6_col3\" class=\"data row6 col3\" >1970</td>\n",
       "    </tr>\n",
       "    <tr>\n",
       "      <td id=\"T_af5e0_row7_col0\" class=\"data row7 col0\" >258000000.000000</td>\n",
       "      <td id=\"T_af5e0_row7_col1\" class=\"data row7 col1\" >2.520912</td>\n",
       "      <td id=\"T_af5e0_row7_col2\" class=\"data row7 col2\" >369</td>\n",
       "      <td id=\"T_af5e0_row7_col3\" class=\"data row7 col3\" >57</td>\n",
       "    </tr>\n",
       "    <tr>\n",
       "      <td id=\"T_af5e0_row8_col0\" class=\"data row8 col0\" >255000000.000000</td>\n",
       "      <td id=\"T_af5e0_row8_col1\" class=\"data row8 col1\" >1.214510</td>\n",
       "      <td id=\"T_af5e0_row8_col2\" class=\"data row8 col2\" >1252</td>\n",
       "      <td id=\"T_af5e0_row8_col3\" class=\"data row8 col3\" >4743</td>\n",
       "    </tr>\n",
       "    <tr>\n",
       "      <td id=\"T_af5e0_row9_col0\" class=\"data row9 col0\" >250000000.000000</td>\n",
       "      <td id=\"T_af5e0_row9_col1\" class=\"data row9 col1\" >4.840588</td>\n",
       "      <td id=\"T_af5e0_row9_col2\" class=\"data row9 col2\" >97</td>\n",
       "      <td id=\"T_af5e0_row9_col3\" class=\"data row9 col3\" >44</td>\n",
       "    </tr>\n",
       "    <tr>\n",
       "      <td id=\"T_af5e0_row10_col0\" class=\"data row10 col0\" >250000000.000000</td>\n",
       "      <td id=\"T_af5e0_row10_col1\" class=\"data row10 col1\" >4.310786</td>\n",
       "      <td id=\"T_af5e0_row10_col2\" class=\"data row10 col2\" >120</td>\n",
       "      <td id=\"T_af5e0_row10_col3\" class=\"data row10 col3\" >42</td>\n",
       "    </tr>\n",
       "    <tr>\n",
       "      <td id=\"T_af5e0_row11_col0\" class=\"data row11 col0\" >250000000.000000</td>\n",
       "      <td id=\"T_af5e0_row11_col1\" class=\"data row11 col1\" >4.218933</td>\n",
       "      <td id=\"T_af5e0_row11_col2\" class=\"data row11 col2\" >123</td>\n",
       "      <td id=\"T_af5e0_row11_col3\" class=\"data row11 col3\" >34</td>\n",
       "    </tr>\n",
       "    <tr>\n",
       "      <td id=\"T_af5e0_row12_col0\" class=\"data row12 col0\" >250000000.000000</td>\n",
       "      <td id=\"T_af5e0_row12_col1\" class=\"data row12 col1\" >6.591277</td>\n",
       "      <td id=\"T_af5e0_row12_col2\" class=\"data row12 col2\" >38</td>\n",
       "      <td id=\"T_af5e0_row12_col3\" class=\"data row12 col3\" >22</td>\n",
       "    </tr>\n",
       "    <tr>\n",
       "      <td id=\"T_af5e0_row13_col0\" class=\"data row13 col0\" >250000000.000000</td>\n",
       "      <td id=\"T_af5e0_row13_col1\" class=\"data row13 col1\" >6.052479</td>\n",
       "      <td id=\"T_af5e0_row13_col2\" class=\"data row13 col2\" >51</td>\n",
       "      <td id=\"T_af5e0_row13_col3\" class=\"data row13 col3\" >98</td>\n",
       "    </tr>\n",
       "    <tr>\n",
       "      <td id=\"T_af5e0_row14_col0\" class=\"data row14 col0\" >250000000.000000</td>\n",
       "      <td id=\"T_af5e0_row14_col1\" class=\"data row14 col1\" >10.174599</td>\n",
       "      <td id=\"T_af5e0_row14_col2\" class=\"data row14 col2\" >11</td>\n",
       "      <td id=\"T_af5e0_row14_col3\" class=\"data row14 col3\" >43</td>\n",
       "    </tr>\n",
       "    <tr>\n",
       "      <td id=\"T_af5e0_row15_col0\" class=\"data row15 col0\" >250000000.000000</td>\n",
       "      <td id=\"T_af5e0_row15_col1\" class=\"data row15 col1\" >5.076472</td>\n",
       "      <td id=\"T_af5e0_row15_col2\" class=\"data row15 col2\" >83</td>\n",
       "      <td id=\"T_af5e0_row15_col3\" class=\"data row15 col3\" >46</td>\n",
       "    </tr>\n",
       "    <tr>\n",
       "      <td id=\"T_af5e0_row16_col0\" class=\"data row16 col0\" >245000000.000000</td>\n",
       "      <td id=\"T_af5e0_row16_col1\" class=\"data row16 col1\" >6.200282</td>\n",
       "      <td id=\"T_af5e0_row16_col2\" class=\"data row16 col2\" >43</td>\n",
       "      <td id=\"T_af5e0_row16_col3\" class=\"data row16 col3\" >55</td>\n",
       "    </tr>\n",
       "    <tr>\n",
       "      <td id=\"T_af5e0_row17_col0\" class=\"data row17 col0\" >237000000.000000</td>\n",
       "      <td id=\"T_af5e0_row17_col1\" class=\"data row17 col1\" >9.432768</td>\n",
       "      <td id=\"T_af5e0_row17_col2\" class=\"data row17 col2\" >12</td>\n",
       "      <td id=\"T_af5e0_row17_col3\" class=\"data row17 col3\" >1</td>\n",
       "    </tr>\n",
       "    <tr>\n",
       "      <td id=\"T_af5e0_row18_col0\" class=\"data row18 col0\" >225000000.000000</td>\n",
       "      <td id=\"T_af5e0_row18_col1\" class=\"data row18 col1\" >3.972460</td>\n",
       "      <td id=\"T_af5e0_row18_col2\" class=\"data row18 col2\" >139</td>\n",
       "      <td id=\"T_af5e0_row18_col3\" class=\"data row18 col3\" >125</td>\n",
       "    </tr>\n",
       "    <tr>\n",
       "      <td id=\"T_af5e0_row19_col0\" class=\"data row19 col0\" >225000000.000000</td>\n",
       "      <td id=\"T_af5e0_row19_col1\" class=\"data row19 col1\" >1.628345</td>\n",
       "      <td id=\"T_af5e0_row19_col2\" class=\"data row19 col2\" >784</td>\n",
       "      <td id=\"T_af5e0_row19_col3\" class=\"data row19 col3\" >406</td>\n",
       "    </tr>\n",
       "  </tbody>\n",
       "</table>\n"
      ],
      "text/plain": [
       "<pandas.io.formats.style.Styler at 0x2914603d940>"
      ]
     },
     "execution_count": 127,
     "metadata": {},
     "output_type": "execute_result"
    }
   ],
   "source": [
    "tmdb.sort_values('budget', ascending=False, axis=0).head(20) \\\n",
    "    [['budget', 'popularity', 'popularity_rank', 'profit_rank']].style.hide(axis=\"index\")"
   ]
  },
  {
   "cell_type": "markdown",
   "metadata": {},
   "source": [
    "This clearly shows that having more budget does not result more revenue or profit."
   ]
  },
  {
   "cell_type": "markdown",
   "metadata": {},
   "source": [
    "#### We want to also ask: Do the `budget`, `revenue`, and `profit` growing over the years?"
   ]
  },
  {
   "cell_type": "markdown",
   "metadata": {},
   "source": [
    "To answer this question, I just have to use the already computed data frame `each_year_mean` because everything is already done, what is left to do is visualize it."
   ]
  },
  {
   "cell_type": "code",
   "execution_count": 128,
   "metadata": {},
   "outputs": [],
   "source": [
    "# Computing the mean of profit for every year\n",
    "each_year_mean['profit'] = tmdb.groupby('release_year').net_profit.mean().reindex(each_year_mean.index)"
   ]
  },
  {
   "cell_type": "code",
   "execution_count": 129,
   "metadata": {},
   "outputs": [
    {
     "data": {
      "text/plain": [
       "<Figure size 432x288 with 0 Axes>"
      ]
     },
     "metadata": {},
     "output_type": "display_data"
    },
    {
     "data": {
      "image/png": "[encoded data removed]",
      "text/plain": [
       "<Figure size 1152x576 with 1 Axes>"
      ]
     },
     "metadata": {
      "needs_background": "light"
     },
     "output_type": "display_data"
    }
   ],
   "source": [
    "custom_plot(\n",
    "    each_year_mean.reset_index(), ['budget', 'revenue', 'profit'],\n",
    "    'Movies Average Budget, Revenue, and Profit Over the Years', \"Years\",\n",
    "    'Money in millions', xticks='release_year', linewidth=2,\n",
    "    legend=[\"Budget\", \"Revenue\", \"Profit\"]\n",
    ")"
   ]
  },
  {
   "cell_type": "markdown",
   "metadata": {},
   "source": [
    "This graph shows that `budget`, `revenue`, and  `profit` have been growing over the years, but have dropped of in recent years."
   ]
  },
  {
   "cell_type": "markdown",
   "metadata": {},
   "source": [
    "<a id='conclusions'></a>\n",
    "## Conclusions\n",
    "\n",
    "> In this analysis, data was collected from the TMDB database. It has 10866 datapoints and 20 columns.  \n",
    "\n",
    "> In the wrangling phase, I discovered that the dataset has a lot of `null` values especially in some columns. These colunmns were not really need for our analysis and were dropped. The dataset contains only one duplicate value, which was dropped. finally, The release_date column has an object (string) datatype, which I converted to datetime datatype.\n",
    "\n",
    "> In the exploration phase it was discovered that there were a lot of zeros in the `budget`, `revenue` and `runtime` columns, dropping those columns would have resulted in losing most of the dataset, so the mean budget for each year was used to fill up the columns.\n",
    "\n",
    "> In answering the research question one: Through computations and visualizations, I found out that the genre that has the most popularity is `Adventure`. But over the years the genre that has the most populaty for every year is `Animation`, followed by `Fantasy` and then `Adventure`.\n",
    "\n",
    "> In answering the research question two: I discovered that the budget of successful movies is almost twice the the budget of tanked movies. Digging deeper, I also found out that the `budget`, `revenue`, and `profit` have been growing over the years, but have dropped of in recent years.\n"
   ]
  },
  {
   "cell_type": "markdown",
   "metadata": {},
   "source": [
    "## Limitations"
   ]
  },
  {
   "cell_type": "markdown",
   "metadata": {},
   "source": [
    "> The dataset like most dataset in the wild, has some issues which needed to rectified in order to do proper analysis on it.\n",
    "It contains a lot of `null` values in many of the columns. There is also the issue of the `budget`, `revenue`, and `runtine` columns of the dataset having a lot of `0`s (zero's) values, which is as much as 25 - 50 percentile of the dataset. Which makes zero sense, as this will mean that all these movies are without budget and, even if they are without budget that there was no revenue generated.\n",
    "\n",
    "> The dataset also has columns like `genres`, `cast`, and `director`, where each genre, actor, and director respectively were separated by a pipe (|) symbol. It also has columns where the values where in different units, where comparing the that way would have led to incorrect results."
   ]
  },
  {
   "cell_type": "markdown",
   "metadata": {},
   "source": [
    "## Resources"
   ]
  },
  {
   "cell_type": "markdown",
   "metadata": {},
   "source": [
    " > https://matplotlib.org/stable/api/_as_gen/matplotlib.pyplot.plot.html"
   ]
  },
  {
   "cell_type": "markdown",
   "metadata": {},
   "source": [
    " > https://pandas.pydata.org/docs/reference/api/pandas.DataFrame.explode.html"
   ]
  },
  {
   "cell_type": "code",
   "execution_count": null,
   "metadata": {},
   "outputs": [],
   "source": []
  },
  {
   "cell_type": "code",
   "execution_count": null,
   "metadata": {},
   "outputs": [],
   "source": []
  }
 ],
 "metadata": {
  "kernelspec": {
   "display_name": "Python 3 (ipykernel)",
   "language": "python",
   "name": "python3"
  },
  "language_info": {
   "codemirror_mode": {
    "name": "ipython",
    "version": 3
   },
   "file_extension": ".py",
   "mimetype": "text/x-python",
   "name": "python",
   "nbconvert_exporter": "python",
   "pygments_lexer": "ipython3",
   "version": "3.9.12"
  }
 },
 "nbformat": 4,
 "nbformat_minor": 2
}
